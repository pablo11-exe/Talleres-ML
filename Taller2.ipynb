{
 "cells": [
  {
   "cell_type": "markdown",
   "metadata": {},
   "source": [
    "# Análisis exploratorio de los datos"
   ]
  },
  {
   "cell_type": "code",
   "execution_count": 2,
   "metadata": {},
   "outputs": [],
   "source": [
    "import pandas as pd\n",
    "import numpy as np\n",
    "import matplotlib.pyplot as plt\n",
    "import seaborn as sns\n",
    "import plotly.express as px\n",
    "pd.options.display.max_colwidth=400"
   ]
  },
  {
   "cell_type": "code",
   "execution_count": 3,
   "metadata": {},
   "outputs": [],
   "source": [
    "df = pd.read_csv('cinemagix-movies.csv', index_col=0, parse_dates=True)"
   ]
  },
  {
   "cell_type": "code",
   "execution_count": 4,
   "metadata": {},
   "outputs": [
    {
     "data": {
      "text/plain": [
       "(10000, 11)"
      ]
     },
     "execution_count": 4,
     "metadata": {},
     "output_type": "execute_result"
    }
   ],
   "source": [
    "df.shape"
   ]
  },
  {
   "cell_type": "markdown",
   "metadata": {},
   "source": [
    "12 características para 10.000 filas"
   ]
  },
  {
   "cell_type": "code",
   "execution_count": 5,
   "metadata": {},
   "outputs": [
    {
     "name": "stdout",
     "output_type": "stream",
     "text": [
      "<class 'pandas.core.frame.DataFrame'>\n",
      "Index: 10000 entries, The Shawshank Redemption to The Last Boy\n",
      "Data columns (total 11 columns):\n",
      " #   Column         Non-Null Count  Dtype  \n",
      "---  ------         --------------  -----  \n",
      " 0   YearOfRelease  10000 non-null  int64  \n",
      " 1   RunTime        10000 non-null  int64  \n",
      " 2   MovieRating    10000 non-null  float64\n",
      " 3   Votes          10000 non-null  int64  \n",
      " 4   MetaScore      7974 non-null   float64\n",
      " 5   Gross          7085 non-null   float64\n",
      " 6   Genre          10000 non-null  object \n",
      " 7   Certification  9631 non-null   object \n",
      " 8   Director       10000 non-null  object \n",
      " 9   Stars          10000 non-null  object \n",
      " 10  Description    10000 non-null  object \n",
      "dtypes: float64(3), int64(3), object(5)\n",
      "memory usage: 937.5+ KB\n"
     ]
    }
   ],
   "source": [
    "df.info()"
   ]
  },
  {
   "cell_type": "code",
   "execution_count": 6,
   "metadata": {},
   "outputs": [
    {
     "data": {
      "text/html": [
       "<div>\n",
       "<style scoped>\n",
       "    .dataframe tbody tr th:only-of-type {\n",
       "        vertical-align: middle;\n",
       "    }\n",
       "\n",
       "    .dataframe tbody tr th {\n",
       "        vertical-align: top;\n",
       "    }\n",
       "\n",
       "    .dataframe thead th {\n",
       "        text-align: right;\n",
       "    }\n",
       "</style>\n",
       "<table border=\"1\" class=\"dataframe\">\n",
       "  <thead>\n",
       "    <tr style=\"text-align: right;\">\n",
       "      <th></th>\n",
       "      <th>YearOfRelease</th>\n",
       "      <th>RunTime</th>\n",
       "      <th>MovieRating</th>\n",
       "      <th>Votes</th>\n",
       "      <th>MetaScore</th>\n",
       "      <th>Gross</th>\n",
       "      <th>Genre</th>\n",
       "      <th>Certification</th>\n",
       "      <th>Director</th>\n",
       "      <th>Stars</th>\n",
       "      <th>Description</th>\n",
       "    </tr>\n",
       "    <tr>\n",
       "      <th>MovieName</th>\n",
       "      <th></th>\n",
       "      <th></th>\n",
       "      <th></th>\n",
       "      <th></th>\n",
       "      <th></th>\n",
       "      <th></th>\n",
       "      <th></th>\n",
       "      <th></th>\n",
       "      <th></th>\n",
       "      <th></th>\n",
       "      <th></th>\n",
       "    </tr>\n",
       "  </thead>\n",
       "  <tbody>\n",
       "    <tr>\n",
       "      <th>The Shawshank Redemption</th>\n",
       "      <td>1994</td>\n",
       "      <td>142</td>\n",
       "      <td>9.3</td>\n",
       "      <td>2804443</td>\n",
       "      <td>82.0</td>\n",
       "      <td>28340000.0</td>\n",
       "      <td>['Drama']</td>\n",
       "      <td>R</td>\n",
       "      <td>['Frank Darabont']</td>\n",
       "      <td>['Tim Robbins', 'Morgan Freeman', 'Bob Gunton', 'William Sadler']</td>\n",
       "      <td>['Over', 'the', 'course', 'of', 'several', 'years,', 'two', 'convicts', 'form', 'a', 'friendship,', 'seeking', 'consolation', 'and,', 'eventually,', 'redemption', 'through', 'basic', 'compassion.']</td>\n",
       "    </tr>\n",
       "    <tr>\n",
       "      <th>The Godfather</th>\n",
       "      <td>1972</td>\n",
       "      <td>175</td>\n",
       "      <td>9.2</td>\n",
       "      <td>1954174</td>\n",
       "      <td>100.0</td>\n",
       "      <td>134970000.0</td>\n",
       "      <td>['Crime', ' Drama']</td>\n",
       "      <td>R</td>\n",
       "      <td>['Francis Ford Coppola']</td>\n",
       "      <td>['Marlon Brando', 'Al Pacino', 'James Caan', 'Diane Keaton']</td>\n",
       "      <td>['Don', 'Vito', 'Corleone,', 'head', 'of', 'a', 'mafia', 'family,', 'decides', 'to', 'hand', 'over', 'his', 'empire', 'to', 'his', 'youngest', 'son', 'Michael.', 'However,', 'his', 'decision', 'unintentionally', 'puts', 'the', 'lives', 'of', 'his', 'loved', 'ones', 'in', 'grave', 'danger.']</td>\n",
       "    </tr>\n",
       "    <tr>\n",
       "      <th>Ramayana: The Legend of Prince Rama</th>\n",
       "      <td>1993</td>\n",
       "      <td>135</td>\n",
       "      <td>9.2</td>\n",
       "      <td>12995</td>\n",
       "      <td>NaN</td>\n",
       "      <td>NaN</td>\n",
       "      <td>['Animation', ' Action', ' Adventure']</td>\n",
       "      <td>PG</td>\n",
       "      <td>['Ram Mohan', 'Yago Sako', 'Koichi Saski']</td>\n",
       "      <td>['Arun Govil', 'Nikhil Kapoor', 'Edie Mirman', 'Rael Padamsee']</td>\n",
       "      <td>['An', 'anime', 'adaptation', 'of', 'the', 'Hindu', 'epic', 'the', 'Ramayana,', 'where', 'Lord', 'Ram', 'combats', 'the', 'wicked', 'king', 'Ravana.']</td>\n",
       "    </tr>\n",
       "    <tr>\n",
       "      <th>The Chaos Class</th>\n",
       "      <td>1975</td>\n",
       "      <td>87</td>\n",
       "      <td>9.2</td>\n",
       "      <td>42231</td>\n",
       "      <td>NaN</td>\n",
       "      <td>NaN</td>\n",
       "      <td>['Comedy', ' Drama']</td>\n",
       "      <td>NaN</td>\n",
       "      <td>['Ertem Egilmez']</td>\n",
       "      <td>['Kemal Sunal', 'Munir Ozkul', 'Halit Akcatepe', 'Tarik Akan']</td>\n",
       "      <td>['Lazy,', 'uneducated', 'students', 'share', 'a', 'very', 'close', 'bond.', 'They', 'live', 'together', 'in', 'the', 'dormitory,', 'where', 'they', 'plan', 'their', 'latest', 'pranks.', 'When', 'a', 'new', 'headmaster', 'arrives,', 'the', 'students', 'naturally', 'try', 'to', 'overthrow', 'him.', 'A', 'comic', 'war', 'of', 'nitwits', 'follows.']</td>\n",
       "    </tr>\n",
       "    <tr>\n",
       "      <th>The Dark Knight</th>\n",
       "      <td>2008</td>\n",
       "      <td>152</td>\n",
       "      <td>9.0</td>\n",
       "      <td>2786129</td>\n",
       "      <td>84.0</td>\n",
       "      <td>534860000.0</td>\n",
       "      <td>['Action', ' Crime', ' Drama']</td>\n",
       "      <td>PG-13</td>\n",
       "      <td>['Christopher Nolan']</td>\n",
       "      <td>['Christian Bale', 'Heath Ledger', 'Aaron Eckhart', 'Michael Caine']</td>\n",
       "      <td>['When', 'the', 'menace', 'known', 'as', 'the', 'Joker', 'wreaks', 'havoc', 'and', 'chaos', 'on', 'the', 'people', 'of', 'Gotham,', 'Batman', 'must', 'accept', 'one', 'of', 'the', 'greatest', 'psychological', 'and', 'physical', 'tests', 'of', 'his', 'ability', 'to', 'fight', 'injustice.']</td>\n",
       "    </tr>\n",
       "  </tbody>\n",
       "</table>\n",
       "</div>"
      ],
      "text/plain": [
       "                                     YearOfRelease  RunTime  MovieRating  \\\n",
       "MovieName                                                                  \n",
       "The Shawshank Redemption                      1994      142          9.3   \n",
       "The Godfather                                 1972      175          9.2   \n",
       "Ramayana: The Legend of Prince Rama           1993      135          9.2   \n",
       "The Chaos Class                               1975       87          9.2   \n",
       "The Dark Knight                               2008      152          9.0   \n",
       "\n",
       "                                       Votes  MetaScore        Gross  \\\n",
       "MovieName                                                              \n",
       "The Shawshank Redemption             2804443       82.0   28340000.0   \n",
       "The Godfather                        1954174      100.0  134970000.0   \n",
       "Ramayana: The Legend of Prince Rama    12995        NaN          NaN   \n",
       "The Chaos Class                        42231        NaN          NaN   \n",
       "The Dark Knight                      2786129       84.0  534860000.0   \n",
       "\n",
       "                                                                      Genre  \\\n",
       "MovieName                                                                     \n",
       "The Shawshank Redemption                                          ['Drama']   \n",
       "The Godfather                                           ['Crime', ' Drama']   \n",
       "Ramayana: The Legend of Prince Rama  ['Animation', ' Action', ' Adventure']   \n",
       "The Chaos Class                                        ['Comedy', ' Drama']   \n",
       "The Dark Knight                              ['Action', ' Crime', ' Drama']   \n",
       "\n",
       "                                    Certification  \\\n",
       "MovieName                                           \n",
       "The Shawshank Redemption                        R   \n",
       "The Godfather                                   R   \n",
       "Ramayana: The Legend of Prince Rama            PG   \n",
       "The Chaos Class                               NaN   \n",
       "The Dark Knight                             PG-13   \n",
       "\n",
       "                                                                       Director  \\\n",
       "MovieName                                                                         \n",
       "The Shawshank Redemption                                     ['Frank Darabont']   \n",
       "The Godfather                                          ['Francis Ford Coppola']   \n",
       "Ramayana: The Legend of Prince Rama  ['Ram Mohan', 'Yago Sako', 'Koichi Saski']   \n",
       "The Chaos Class                                               ['Ertem Egilmez']   \n",
       "The Dark Knight                                           ['Christopher Nolan']   \n",
       "\n",
       "                                                                                                    Stars  \\\n",
       "MovieName                                                                                                   \n",
       "The Shawshank Redemption                ['Tim Robbins', 'Morgan Freeman', 'Bob Gunton', 'William Sadler']   \n",
       "The Godfather                                ['Marlon Brando', 'Al Pacino', 'James Caan', 'Diane Keaton']   \n",
       "Ramayana: The Legend of Prince Rama       ['Arun Govil', 'Nikhil Kapoor', 'Edie Mirman', 'Rael Padamsee']   \n",
       "The Chaos Class                            ['Kemal Sunal', 'Munir Ozkul', 'Halit Akcatepe', 'Tarik Akan']   \n",
       "The Dark Knight                      ['Christian Bale', 'Heath Ledger', 'Aaron Eckhart', 'Michael Caine']   \n",
       "\n",
       "                                                                                                                                                                                                                                                                                                                                                                                     Description  \n",
       "MovieName                                                                                                                                                                                                                                                                                                                                                                                         \n",
       "The Shawshank Redemption                                                                                                                                                                   ['Over', 'the', 'course', 'of', 'several', 'years,', 'two', 'convicts', 'form', 'a', 'friendship,', 'seeking', 'consolation', 'and,', 'eventually,', 'redemption', 'through', 'basic', 'compassion.']  \n",
       "The Godfather                                                                                ['Don', 'Vito', 'Corleone,', 'head', 'of', 'a', 'mafia', 'family,', 'decides', 'to', 'hand', 'over', 'his', 'empire', 'to', 'his', 'youngest', 'son', 'Michael.', 'However,', 'his', 'decision', 'unintentionally', 'puts', 'the', 'lives', 'of', 'his', 'loved', 'ones', 'in', 'grave', 'danger.']  \n",
       "Ramayana: The Legend of Prince Rama                                                                                                                                                                                                       ['An', 'anime', 'adaptation', 'of', 'the', 'Hindu', 'epic', 'the', 'Ramayana,', 'where', 'Lord', 'Ram', 'combats', 'the', 'wicked', 'king', 'Ravana.']  \n",
       "The Chaos Class                      ['Lazy,', 'uneducated', 'students', 'share', 'a', 'very', 'close', 'bond.', 'They', 'live', 'together', 'in', 'the', 'dormitory,', 'where', 'they', 'plan', 'their', 'latest', 'pranks.', 'When', 'a', 'new', 'headmaster', 'arrives,', 'the', 'students', 'naturally', 'try', 'to', 'overthrow', 'him.', 'A', 'comic', 'war', 'of', 'nitwits', 'follows.']  \n",
       "The Dark Knight                                                                                ['When', 'the', 'menace', 'known', 'as', 'the', 'Joker', 'wreaks', 'havoc', 'and', 'chaos', 'on', 'the', 'people', 'of', 'Gotham,', 'Batman', 'must', 'accept', 'one', 'of', 'the', 'greatest', 'psychological', 'and', 'physical', 'tests', 'of', 'his', 'ability', 'to', 'fight', 'injustice.']  "
      ]
     },
     "execution_count": 6,
     "metadata": {},
     "output_type": "execute_result"
    }
   ],
   "source": [
    "#Echaremos un primer vistazo a los datos\n",
    "df.head()"
   ]
  },
  {
   "cell_type": "code",
   "execution_count": 6,
   "metadata": {},
   "outputs": [
    {
     "data": {
      "text/html": [
       "<div>\n",
       "<style scoped>\n",
       "    .dataframe tbody tr th:only-of-type {\n",
       "        vertical-align: middle;\n",
       "    }\n",
       "\n",
       "    .dataframe tbody tr th {\n",
       "        vertical-align: top;\n",
       "    }\n",
       "\n",
       "    .dataframe thead th {\n",
       "        text-align: right;\n",
       "    }\n",
       "</style>\n",
       "<table border=\"1\" class=\"dataframe\">\n",
       "  <thead>\n",
       "    <tr style=\"text-align: right;\">\n",
       "      <th></th>\n",
       "      <th>YearOfRelease</th>\n",
       "      <th>RunTime</th>\n",
       "      <th>MovieRating</th>\n",
       "      <th>Votes</th>\n",
       "      <th>MetaScore</th>\n",
       "      <th>Gross</th>\n",
       "    </tr>\n",
       "  </thead>\n",
       "  <tbody>\n",
       "    <tr>\n",
       "      <th>count</th>\n",
       "      <td>10000.000000</td>\n",
       "      <td>10000.000000</td>\n",
       "      <td>10000.000000</td>\n",
       "      <td>1.000000e+04</td>\n",
       "      <td>7974.000000</td>\n",
       "      <td>7.085000e+03</td>\n",
       "    </tr>\n",
       "    <tr>\n",
       "      <th>mean</th>\n",
       "      <td>2001.413600</td>\n",
       "      <td>110.725000</td>\n",
       "      <td>6.727020</td>\n",
       "      <td>9.279738e+04</td>\n",
       "      <td>59.171432</td>\n",
       "      <td>4.017500e+07</td>\n",
       "    </tr>\n",
       "    <tr>\n",
       "      <th>std</th>\n",
       "      <td>18.597804</td>\n",
       "      <td>22.053073</td>\n",
       "      <td>0.821264</td>\n",
       "      <td>1.716509e+05</td>\n",
       "      <td>17.268795</td>\n",
       "      <td>6.748658e+07</td>\n",
       "    </tr>\n",
       "    <tr>\n",
       "      <th>min</th>\n",
       "      <td>1915.000000</td>\n",
       "      <td>45.000000</td>\n",
       "      <td>4.900000</td>\n",
       "      <td>1.000200e+04</td>\n",
       "      <td>7.000000</td>\n",
       "      <td>0.000000e+00</td>\n",
       "    </tr>\n",
       "    <tr>\n",
       "      <th>25%</th>\n",
       "      <td>1994.000000</td>\n",
       "      <td>96.000000</td>\n",
       "      <td>6.100000</td>\n",
       "      <td>1.685175e+04</td>\n",
       "      <td>47.000000</td>\n",
       "      <td>2.340000e+06</td>\n",
       "    </tr>\n",
       "    <tr>\n",
       "      <th>50%</th>\n",
       "      <td>2007.000000</td>\n",
       "      <td>107.000000</td>\n",
       "      <td>6.700000</td>\n",
       "      <td>3.417950e+04</td>\n",
       "      <td>60.000000</td>\n",
       "      <td>1.693000e+07</td>\n",
       "    </tr>\n",
       "    <tr>\n",
       "      <th>75%</th>\n",
       "      <td>2015.000000</td>\n",
       "      <td>121.000000</td>\n",
       "      <td>7.300000</td>\n",
       "      <td>9.154600e+04</td>\n",
       "      <td>72.000000</td>\n",
       "      <td>4.864000e+07</td>\n",
       "    </tr>\n",
       "    <tr>\n",
       "      <th>max</th>\n",
       "      <td>2023.000000</td>\n",
       "      <td>439.000000</td>\n",
       "      <td>9.300000</td>\n",
       "      <td>2.804443e+06</td>\n",
       "      <td>100.000000</td>\n",
       "      <td>9.366600e+08</td>\n",
       "    </tr>\n",
       "  </tbody>\n",
       "</table>\n",
       "</div>"
      ],
      "text/plain": [
       "       YearOfRelease       RunTime   MovieRating         Votes    MetaScore  \\\n",
       "count   10000.000000  10000.000000  10000.000000  1.000000e+04  7974.000000   \n",
       "mean     2001.413600    110.725000      6.727020  9.279738e+04    59.171432   \n",
       "std        18.597804     22.053073      0.821264  1.716509e+05    17.268795   \n",
       "min      1915.000000     45.000000      4.900000  1.000200e+04     7.000000   \n",
       "25%      1994.000000     96.000000      6.100000  1.685175e+04    47.000000   \n",
       "50%      2007.000000    107.000000      6.700000  3.417950e+04    60.000000   \n",
       "75%      2015.000000    121.000000      7.300000  9.154600e+04    72.000000   \n",
       "max      2023.000000    439.000000      9.300000  2.804443e+06   100.000000   \n",
       "\n",
       "              Gross  \n",
       "count  7.085000e+03  \n",
       "mean   4.017500e+07  \n",
       "std    6.748658e+07  \n",
       "min    0.000000e+00  \n",
       "25%    2.340000e+06  \n",
       "50%    1.693000e+07  \n",
       "75%    4.864000e+07  \n",
       "max    9.366600e+08  "
      ]
     },
     "execution_count": 6,
     "metadata": {},
     "output_type": "execute_result"
    }
   ],
   "source": [
    "df.describe()"
   ]
  },
  {
   "cell_type": "code",
   "execution_count": 7,
   "metadata": {},
   "outputs": [
    {
     "data": {
      "application/vnd.plotly.v1+json": {
       "config": {
        "plotlyServerURL": "https://plot.ly"
       },
       "data": [
        {
         "alignmentgroup": "True",
         "hovertemplate": "Variable=%{x}<br>Cantidad de Valores Faltantes=%{y}<extra></extra>",
         "legendgroup": "",
         "marker": {
          "color": "#636efa",
          "pattern": {
           "shape": ""
          }
         },
         "name": "",
         "offsetgroup": "",
         "orientation": "v",
         "showlegend": false,
         "textposition": "auto",
         "type": "bar",
         "x": [
          "YearOfRelease",
          "RunTime",
          "MovieRating",
          "Votes",
          "MetaScore",
          "Gross",
          "Genre",
          "Certification",
          "Director",
          "Stars",
          "Description"
         ],
         "xaxis": "x",
         "y": [
          0,
          0,
          0,
          0,
          2026,
          2915,
          0,
          369,
          0,
          0,
          0
         ],
         "yaxis": "y"
        }
       ],
       "layout": {
        "barmode": "relative",
        "legend": {
         "tracegroupgap": 0
        },
        "template": {
         "data": {
          "bar": [
           {
            "error_x": {
             "color": "#2a3f5f"
            },
            "error_y": {
             "color": "#2a3f5f"
            },
            "marker": {
             "line": {
              "color": "#E5ECF6",
              "width": 0.5
             },
             "pattern": {
              "fillmode": "overlay",
              "size": 10,
              "solidity": 0.2
             }
            },
            "type": "bar"
           }
          ],
          "barpolar": [
           {
            "marker": {
             "line": {
              "color": "#E5ECF6",
              "width": 0.5
             },
             "pattern": {
              "fillmode": "overlay",
              "size": 10,
              "solidity": 0.2
             }
            },
            "type": "barpolar"
           }
          ],
          "carpet": [
           {
            "aaxis": {
             "endlinecolor": "#2a3f5f",
             "gridcolor": "white",
             "linecolor": "white",
             "minorgridcolor": "white",
             "startlinecolor": "#2a3f5f"
            },
            "baxis": {
             "endlinecolor": "#2a3f5f",
             "gridcolor": "white",
             "linecolor": "white",
             "minorgridcolor": "white",
             "startlinecolor": "#2a3f5f"
            },
            "type": "carpet"
           }
          ],
          "choropleth": [
           {
            "colorbar": {
             "outlinewidth": 0,
             "ticks": ""
            },
            "type": "choropleth"
           }
          ],
          "contour": [
           {
            "colorbar": {
             "outlinewidth": 0,
             "ticks": ""
            },
            "colorscale": [
             [
              0,
              "#0d0887"
             ],
             [
              0.1111111111111111,
              "#46039f"
             ],
             [
              0.2222222222222222,
              "#7201a8"
             ],
             [
              0.3333333333333333,
              "#9c179e"
             ],
             [
              0.4444444444444444,
              "#bd3786"
             ],
             [
              0.5555555555555556,
              "#d8576b"
             ],
             [
              0.6666666666666666,
              "#ed7953"
             ],
             [
              0.7777777777777778,
              "#fb9f3a"
             ],
             [
              0.8888888888888888,
              "#fdca26"
             ],
             [
              1,
              "#f0f921"
             ]
            ],
            "type": "contour"
           }
          ],
          "contourcarpet": [
           {
            "colorbar": {
             "outlinewidth": 0,
             "ticks": ""
            },
            "type": "contourcarpet"
           }
          ],
          "heatmap": [
           {
            "colorbar": {
             "outlinewidth": 0,
             "ticks": ""
            },
            "colorscale": [
             [
              0,
              "#0d0887"
             ],
             [
              0.1111111111111111,
              "#46039f"
             ],
             [
              0.2222222222222222,
              "#7201a8"
             ],
             [
              0.3333333333333333,
              "#9c179e"
             ],
             [
              0.4444444444444444,
              "#bd3786"
             ],
             [
              0.5555555555555556,
              "#d8576b"
             ],
             [
              0.6666666666666666,
              "#ed7953"
             ],
             [
              0.7777777777777778,
              "#fb9f3a"
             ],
             [
              0.8888888888888888,
              "#fdca26"
             ],
             [
              1,
              "#f0f921"
             ]
            ],
            "type": "heatmap"
           }
          ],
          "heatmapgl": [
           {
            "colorbar": {
             "outlinewidth": 0,
             "ticks": ""
            },
            "colorscale": [
             [
              0,
              "#0d0887"
             ],
             [
              0.1111111111111111,
              "#46039f"
             ],
             [
              0.2222222222222222,
              "#7201a8"
             ],
             [
              0.3333333333333333,
              "#9c179e"
             ],
             [
              0.4444444444444444,
              "#bd3786"
             ],
             [
              0.5555555555555556,
              "#d8576b"
             ],
             [
              0.6666666666666666,
              "#ed7953"
             ],
             [
              0.7777777777777778,
              "#fb9f3a"
             ],
             [
              0.8888888888888888,
              "#fdca26"
             ],
             [
              1,
              "#f0f921"
             ]
            ],
            "type": "heatmapgl"
           }
          ],
          "histogram": [
           {
            "marker": {
             "pattern": {
              "fillmode": "overlay",
              "size": 10,
              "solidity": 0.2
             }
            },
            "type": "histogram"
           }
          ],
          "histogram2d": [
           {
            "colorbar": {
             "outlinewidth": 0,
             "ticks": ""
            },
            "colorscale": [
             [
              0,
              "#0d0887"
             ],
             [
              0.1111111111111111,
              "#46039f"
             ],
             [
              0.2222222222222222,
              "#7201a8"
             ],
             [
              0.3333333333333333,
              "#9c179e"
             ],
             [
              0.4444444444444444,
              "#bd3786"
             ],
             [
              0.5555555555555556,
              "#d8576b"
             ],
             [
              0.6666666666666666,
              "#ed7953"
             ],
             [
              0.7777777777777778,
              "#fb9f3a"
             ],
             [
              0.8888888888888888,
              "#fdca26"
             ],
             [
              1,
              "#f0f921"
             ]
            ],
            "type": "histogram2d"
           }
          ],
          "histogram2dcontour": [
           {
            "colorbar": {
             "outlinewidth": 0,
             "ticks": ""
            },
            "colorscale": [
             [
              0,
              "#0d0887"
             ],
             [
              0.1111111111111111,
              "#46039f"
             ],
             [
              0.2222222222222222,
              "#7201a8"
             ],
             [
              0.3333333333333333,
              "#9c179e"
             ],
             [
              0.4444444444444444,
              "#bd3786"
             ],
             [
              0.5555555555555556,
              "#d8576b"
             ],
             [
              0.6666666666666666,
              "#ed7953"
             ],
             [
              0.7777777777777778,
              "#fb9f3a"
             ],
             [
              0.8888888888888888,
              "#fdca26"
             ],
             [
              1,
              "#f0f921"
             ]
            ],
            "type": "histogram2dcontour"
           }
          ],
          "mesh3d": [
           {
            "colorbar": {
             "outlinewidth": 0,
             "ticks": ""
            },
            "type": "mesh3d"
           }
          ],
          "parcoords": [
           {
            "line": {
             "colorbar": {
              "outlinewidth": 0,
              "ticks": ""
             }
            },
            "type": "parcoords"
           }
          ],
          "pie": [
           {
            "automargin": true,
            "type": "pie"
           }
          ],
          "scatter": [
           {
            "fillpattern": {
             "fillmode": "overlay",
             "size": 10,
             "solidity": 0.2
            },
            "type": "scatter"
           }
          ],
          "scatter3d": [
           {
            "line": {
             "colorbar": {
              "outlinewidth": 0,
              "ticks": ""
             }
            },
            "marker": {
             "colorbar": {
              "outlinewidth": 0,
              "ticks": ""
             }
            },
            "type": "scatter3d"
           }
          ],
          "scattercarpet": [
           {
            "marker": {
             "colorbar": {
              "outlinewidth": 0,
              "ticks": ""
             }
            },
            "type": "scattercarpet"
           }
          ],
          "scattergeo": [
           {
            "marker": {
             "colorbar": {
              "outlinewidth": 0,
              "ticks": ""
             }
            },
            "type": "scattergeo"
           }
          ],
          "scattergl": [
           {
            "marker": {
             "colorbar": {
              "outlinewidth": 0,
              "ticks": ""
             }
            },
            "type": "scattergl"
           }
          ],
          "scattermapbox": [
           {
            "marker": {
             "colorbar": {
              "outlinewidth": 0,
              "ticks": ""
             }
            },
            "type": "scattermapbox"
           }
          ],
          "scatterpolar": [
           {
            "marker": {
             "colorbar": {
              "outlinewidth": 0,
              "ticks": ""
             }
            },
            "type": "scatterpolar"
           }
          ],
          "scatterpolargl": [
           {
            "marker": {
             "colorbar": {
              "outlinewidth": 0,
              "ticks": ""
             }
            },
            "type": "scatterpolargl"
           }
          ],
          "scatterternary": [
           {
            "marker": {
             "colorbar": {
              "outlinewidth": 0,
              "ticks": ""
             }
            },
            "type": "scatterternary"
           }
          ],
          "surface": [
           {
            "colorbar": {
             "outlinewidth": 0,
             "ticks": ""
            },
            "colorscale": [
             [
              0,
              "#0d0887"
             ],
             [
              0.1111111111111111,
              "#46039f"
             ],
             [
              0.2222222222222222,
              "#7201a8"
             ],
             [
              0.3333333333333333,
              "#9c179e"
             ],
             [
              0.4444444444444444,
              "#bd3786"
             ],
             [
              0.5555555555555556,
              "#d8576b"
             ],
             [
              0.6666666666666666,
              "#ed7953"
             ],
             [
              0.7777777777777778,
              "#fb9f3a"
             ],
             [
              0.8888888888888888,
              "#fdca26"
             ],
             [
              1,
              "#f0f921"
             ]
            ],
            "type": "surface"
           }
          ],
          "table": [
           {
            "cells": {
             "fill": {
              "color": "#EBF0F8"
             },
             "line": {
              "color": "white"
             }
            },
            "header": {
             "fill": {
              "color": "#C8D4E3"
             },
             "line": {
              "color": "white"
             }
            },
            "type": "table"
           }
          ]
         },
         "layout": {
          "annotationdefaults": {
           "arrowcolor": "#2a3f5f",
           "arrowhead": 0,
           "arrowwidth": 1
          },
          "autotypenumbers": "strict",
          "coloraxis": {
           "colorbar": {
            "outlinewidth": 0,
            "ticks": ""
           }
          },
          "colorscale": {
           "diverging": [
            [
             0,
             "#8e0152"
            ],
            [
             0.1,
             "#c51b7d"
            ],
            [
             0.2,
             "#de77ae"
            ],
            [
             0.3,
             "#f1b6da"
            ],
            [
             0.4,
             "#fde0ef"
            ],
            [
             0.5,
             "#f7f7f7"
            ],
            [
             0.6,
             "#e6f5d0"
            ],
            [
             0.7,
             "#b8e186"
            ],
            [
             0.8,
             "#7fbc41"
            ],
            [
             0.9,
             "#4d9221"
            ],
            [
             1,
             "#276419"
            ]
           ],
           "sequential": [
            [
             0,
             "#0d0887"
            ],
            [
             0.1111111111111111,
             "#46039f"
            ],
            [
             0.2222222222222222,
             "#7201a8"
            ],
            [
             0.3333333333333333,
             "#9c179e"
            ],
            [
             0.4444444444444444,
             "#bd3786"
            ],
            [
             0.5555555555555556,
             "#d8576b"
            ],
            [
             0.6666666666666666,
             "#ed7953"
            ],
            [
             0.7777777777777778,
             "#fb9f3a"
            ],
            [
             0.8888888888888888,
             "#fdca26"
            ],
            [
             1,
             "#f0f921"
            ]
           ],
           "sequentialminus": [
            [
             0,
             "#0d0887"
            ],
            [
             0.1111111111111111,
             "#46039f"
            ],
            [
             0.2222222222222222,
             "#7201a8"
            ],
            [
             0.3333333333333333,
             "#9c179e"
            ],
            [
             0.4444444444444444,
             "#bd3786"
            ],
            [
             0.5555555555555556,
             "#d8576b"
            ],
            [
             0.6666666666666666,
             "#ed7953"
            ],
            [
             0.7777777777777778,
             "#fb9f3a"
            ],
            [
             0.8888888888888888,
             "#fdca26"
            ],
            [
             1,
             "#f0f921"
            ]
           ]
          },
          "colorway": [
           "#636efa",
           "#EF553B",
           "#00cc96",
           "#ab63fa",
           "#FFA15A",
           "#19d3f3",
           "#FF6692",
           "#B6E880",
           "#FF97FF",
           "#FECB52"
          ],
          "font": {
           "color": "#2a3f5f"
          },
          "geo": {
           "bgcolor": "white",
           "lakecolor": "white",
           "landcolor": "#E5ECF6",
           "showlakes": true,
           "showland": true,
           "subunitcolor": "white"
          },
          "hoverlabel": {
           "align": "left"
          },
          "hovermode": "closest",
          "mapbox": {
           "style": "light"
          },
          "paper_bgcolor": "white",
          "plot_bgcolor": "#E5ECF6",
          "polar": {
           "angularaxis": {
            "gridcolor": "white",
            "linecolor": "white",
            "ticks": ""
           },
           "bgcolor": "#E5ECF6",
           "radialaxis": {
            "gridcolor": "white",
            "linecolor": "white",
            "ticks": ""
           }
          },
          "scene": {
           "xaxis": {
            "backgroundcolor": "#E5ECF6",
            "gridcolor": "white",
            "gridwidth": 2,
            "linecolor": "white",
            "showbackground": true,
            "ticks": "",
            "zerolinecolor": "white"
           },
           "yaxis": {
            "backgroundcolor": "#E5ECF6",
            "gridcolor": "white",
            "gridwidth": 2,
            "linecolor": "white",
            "showbackground": true,
            "ticks": "",
            "zerolinecolor": "white"
           },
           "zaxis": {
            "backgroundcolor": "#E5ECF6",
            "gridcolor": "white",
            "gridwidth": 2,
            "linecolor": "white",
            "showbackground": true,
            "ticks": "",
            "zerolinecolor": "white"
           }
          },
          "shapedefaults": {
           "line": {
            "color": "#2a3f5f"
           }
          },
          "ternary": {
           "aaxis": {
            "gridcolor": "white",
            "linecolor": "white",
            "ticks": ""
           },
           "baxis": {
            "gridcolor": "white",
            "linecolor": "white",
            "ticks": ""
           },
           "bgcolor": "#E5ECF6",
           "caxis": {
            "gridcolor": "white",
            "linecolor": "white",
            "ticks": ""
           }
          },
          "title": {
           "x": 0.05
          },
          "xaxis": {
           "automargin": true,
           "gridcolor": "white",
           "linecolor": "white",
           "ticks": "",
           "title": {
            "standoff": 15
           },
           "zerolinecolor": "white",
           "zerolinewidth": 2
          },
          "yaxis": {
           "automargin": true,
           "gridcolor": "white",
           "linecolor": "white",
           "ticks": "",
           "title": {
            "standoff": 15
           },
           "zerolinecolor": "white",
           "zerolinewidth": 2
          }
         }
        },
        "title": {
         "text": "Valores Faltantes por Variable"
        },
        "xaxis": {
         "anchor": "y",
         "domain": [
          0,
          1
         ],
         "title": {
          "text": "Variable"
         }
        },
        "yaxis": {
         "anchor": "x",
         "domain": [
          0,
          1
         ],
         "title": {
          "text": "Cantidad de Valores Faltantes"
         }
        }
       }
      }
     },
     "metadata": {},
     "output_type": "display_data"
    }
   ],
   "source": [
    "missing_values = df.isnull().sum()\n",
    "fig_missing = px.bar(\n",
    "    x=missing_values.index, \n",
    "    y=missing_values.values, \n",
    "    labels={'y':'Cantidad de Valores Faltantes', 'x':'Variable'},\n",
    "    title='Valores Faltantes por Variable'\n",
    ")\n",
    "fig_missing.show()"
   ]
  },
  {
   "cell_type": "markdown",
   "metadata": {},
   "source": [
    "Tendremos que hacer Imputación en el caso de las 3 columnas MetaScore, Gross y Certification pues consideran una pérdida importante de información respecto al total de datos. En especial la variable Gross."
   ]
  },
  {
   "cell_type": "code",
   "execution_count": 8,
   "metadata": {},
   "outputs": [
    {
     "name": "stdout",
     "output_type": "stream",
     "text": [
      "0\n"
     ]
    }
   ],
   "source": [
    "duplicated_rows = df.duplicated().sum()\n",
    "print(duplicated_rows)"
   ]
  },
  {
   "cell_type": "code",
   "execution_count": 9,
   "metadata": {},
   "outputs": [
    {
     "data": {
      "application/vnd.plotly.v1+json": {
       "config": {
        "plotlyServerURL": "https://plot.ly"
       },
       "data": [
        {
         "alignmentgroup": "True",
         "hovertemplate": "Tipo de Dato=%{x}<br>Cantidad de Variables=%{y}<br>color=%{marker.color}<extra></extra>",
         "legendgroup": "",
         "marker": {
          "color": [
           5,
           3,
           3
          ],
          "coloraxis": "coloraxis",
          "pattern": {
           "shape": ""
          }
         },
         "name": "",
         "offsetgroup": "",
         "orientation": "v",
         "showlegend": false,
         "textposition": "auto",
         "type": "bar",
         "x": [
          "object",
          "int64",
          "float64"
         ],
         "xaxis": "x",
         "y": [
          5,
          3,
          3
         ],
         "yaxis": "y"
        }
       ],
       "layout": {
        "barmode": "relative",
        "coloraxis": {
         "colorbar": {
          "title": {
           "text": "color"
          }
         },
         "colorscale": [
          [
           0,
           "#0d0887"
          ],
          [
           0.1111111111111111,
           "#46039f"
          ],
          [
           0.2222222222222222,
           "#7201a8"
          ],
          [
           0.3333333333333333,
           "#9c179e"
          ],
          [
           0.4444444444444444,
           "#bd3786"
          ],
          [
           0.5555555555555556,
           "#d8576b"
          ],
          [
           0.6666666666666666,
           "#ed7953"
          ],
          [
           0.7777777777777778,
           "#fb9f3a"
          ],
          [
           0.8888888888888888,
           "#fdca26"
          ],
          [
           1,
           "#f0f921"
          ]
         ]
        },
        "legend": {
         "tracegroupgap": 0
        },
        "template": {
         "data": {
          "bar": [
           {
            "error_x": {
             "color": "#2a3f5f"
            },
            "error_y": {
             "color": "#2a3f5f"
            },
            "marker": {
             "line": {
              "color": "#E5ECF6",
              "width": 0.5
             },
             "pattern": {
              "fillmode": "overlay",
              "size": 10,
              "solidity": 0.2
             }
            },
            "type": "bar"
           }
          ],
          "barpolar": [
           {
            "marker": {
             "line": {
              "color": "#E5ECF6",
              "width": 0.5
             },
             "pattern": {
              "fillmode": "overlay",
              "size": 10,
              "solidity": 0.2
             }
            },
            "type": "barpolar"
           }
          ],
          "carpet": [
           {
            "aaxis": {
             "endlinecolor": "#2a3f5f",
             "gridcolor": "white",
             "linecolor": "white",
             "minorgridcolor": "white",
             "startlinecolor": "#2a3f5f"
            },
            "baxis": {
             "endlinecolor": "#2a3f5f",
             "gridcolor": "white",
             "linecolor": "white",
             "minorgridcolor": "white",
             "startlinecolor": "#2a3f5f"
            },
            "type": "carpet"
           }
          ],
          "choropleth": [
           {
            "colorbar": {
             "outlinewidth": 0,
             "ticks": ""
            },
            "type": "choropleth"
           }
          ],
          "contour": [
           {
            "colorbar": {
             "outlinewidth": 0,
             "ticks": ""
            },
            "colorscale": [
             [
              0,
              "#0d0887"
             ],
             [
              0.1111111111111111,
              "#46039f"
             ],
             [
              0.2222222222222222,
              "#7201a8"
             ],
             [
              0.3333333333333333,
              "#9c179e"
             ],
             [
              0.4444444444444444,
              "#bd3786"
             ],
             [
              0.5555555555555556,
              "#d8576b"
             ],
             [
              0.6666666666666666,
              "#ed7953"
             ],
             [
              0.7777777777777778,
              "#fb9f3a"
             ],
             [
              0.8888888888888888,
              "#fdca26"
             ],
             [
              1,
              "#f0f921"
             ]
            ],
            "type": "contour"
           }
          ],
          "contourcarpet": [
           {
            "colorbar": {
             "outlinewidth": 0,
             "ticks": ""
            },
            "type": "contourcarpet"
           }
          ],
          "heatmap": [
           {
            "colorbar": {
             "outlinewidth": 0,
             "ticks": ""
            },
            "colorscale": [
             [
              0,
              "#0d0887"
             ],
             [
              0.1111111111111111,
              "#46039f"
             ],
             [
              0.2222222222222222,
              "#7201a8"
             ],
             [
              0.3333333333333333,
              "#9c179e"
             ],
             [
              0.4444444444444444,
              "#bd3786"
             ],
             [
              0.5555555555555556,
              "#d8576b"
             ],
             [
              0.6666666666666666,
              "#ed7953"
             ],
             [
              0.7777777777777778,
              "#fb9f3a"
             ],
             [
              0.8888888888888888,
              "#fdca26"
             ],
             [
              1,
              "#f0f921"
             ]
            ],
            "type": "heatmap"
           }
          ],
          "heatmapgl": [
           {
            "colorbar": {
             "outlinewidth": 0,
             "ticks": ""
            },
            "colorscale": [
             [
              0,
              "#0d0887"
             ],
             [
              0.1111111111111111,
              "#46039f"
             ],
             [
              0.2222222222222222,
              "#7201a8"
             ],
             [
              0.3333333333333333,
              "#9c179e"
             ],
             [
              0.4444444444444444,
              "#bd3786"
             ],
             [
              0.5555555555555556,
              "#d8576b"
             ],
             [
              0.6666666666666666,
              "#ed7953"
             ],
             [
              0.7777777777777778,
              "#fb9f3a"
             ],
             [
              0.8888888888888888,
              "#fdca26"
             ],
             [
              1,
              "#f0f921"
             ]
            ],
            "type": "heatmapgl"
           }
          ],
          "histogram": [
           {
            "marker": {
             "pattern": {
              "fillmode": "overlay",
              "size": 10,
              "solidity": 0.2
             }
            },
            "type": "histogram"
           }
          ],
          "histogram2d": [
           {
            "colorbar": {
             "outlinewidth": 0,
             "ticks": ""
            },
            "colorscale": [
             [
              0,
              "#0d0887"
             ],
             [
              0.1111111111111111,
              "#46039f"
             ],
             [
              0.2222222222222222,
              "#7201a8"
             ],
             [
              0.3333333333333333,
              "#9c179e"
             ],
             [
              0.4444444444444444,
              "#bd3786"
             ],
             [
              0.5555555555555556,
              "#d8576b"
             ],
             [
              0.6666666666666666,
              "#ed7953"
             ],
             [
              0.7777777777777778,
              "#fb9f3a"
             ],
             [
              0.8888888888888888,
              "#fdca26"
             ],
             [
              1,
              "#f0f921"
             ]
            ],
            "type": "histogram2d"
           }
          ],
          "histogram2dcontour": [
           {
            "colorbar": {
             "outlinewidth": 0,
             "ticks": ""
            },
            "colorscale": [
             [
              0,
              "#0d0887"
             ],
             [
              0.1111111111111111,
              "#46039f"
             ],
             [
              0.2222222222222222,
              "#7201a8"
             ],
             [
              0.3333333333333333,
              "#9c179e"
             ],
             [
              0.4444444444444444,
              "#bd3786"
             ],
             [
              0.5555555555555556,
              "#d8576b"
             ],
             [
              0.6666666666666666,
              "#ed7953"
             ],
             [
              0.7777777777777778,
              "#fb9f3a"
             ],
             [
              0.8888888888888888,
              "#fdca26"
             ],
             [
              1,
              "#f0f921"
             ]
            ],
            "type": "histogram2dcontour"
           }
          ],
          "mesh3d": [
           {
            "colorbar": {
             "outlinewidth": 0,
             "ticks": ""
            },
            "type": "mesh3d"
           }
          ],
          "parcoords": [
           {
            "line": {
             "colorbar": {
              "outlinewidth": 0,
              "ticks": ""
             }
            },
            "type": "parcoords"
           }
          ],
          "pie": [
           {
            "automargin": true,
            "type": "pie"
           }
          ],
          "scatter": [
           {
            "fillpattern": {
             "fillmode": "overlay",
             "size": 10,
             "solidity": 0.2
            },
            "type": "scatter"
           }
          ],
          "scatter3d": [
           {
            "line": {
             "colorbar": {
              "outlinewidth": 0,
              "ticks": ""
             }
            },
            "marker": {
             "colorbar": {
              "outlinewidth": 0,
              "ticks": ""
             }
            },
            "type": "scatter3d"
           }
          ],
          "scattercarpet": [
           {
            "marker": {
             "colorbar": {
              "outlinewidth": 0,
              "ticks": ""
             }
            },
            "type": "scattercarpet"
           }
          ],
          "scattergeo": [
           {
            "marker": {
             "colorbar": {
              "outlinewidth": 0,
              "ticks": ""
             }
            },
            "type": "scattergeo"
           }
          ],
          "scattergl": [
           {
            "marker": {
             "colorbar": {
              "outlinewidth": 0,
              "ticks": ""
             }
            },
            "type": "scattergl"
           }
          ],
          "scattermapbox": [
           {
            "marker": {
             "colorbar": {
              "outlinewidth": 0,
              "ticks": ""
             }
            },
            "type": "scattermapbox"
           }
          ],
          "scatterpolar": [
           {
            "marker": {
             "colorbar": {
              "outlinewidth": 0,
              "ticks": ""
             }
            },
            "type": "scatterpolar"
           }
          ],
          "scatterpolargl": [
           {
            "marker": {
             "colorbar": {
              "outlinewidth": 0,
              "ticks": ""
             }
            },
            "type": "scatterpolargl"
           }
          ],
          "scatterternary": [
           {
            "marker": {
             "colorbar": {
              "outlinewidth": 0,
              "ticks": ""
             }
            },
            "type": "scatterternary"
           }
          ],
          "surface": [
           {
            "colorbar": {
             "outlinewidth": 0,
             "ticks": ""
            },
            "colorscale": [
             [
              0,
              "#0d0887"
             ],
             [
              0.1111111111111111,
              "#46039f"
             ],
             [
              0.2222222222222222,
              "#7201a8"
             ],
             [
              0.3333333333333333,
              "#9c179e"
             ],
             [
              0.4444444444444444,
              "#bd3786"
             ],
             [
              0.5555555555555556,
              "#d8576b"
             ],
             [
              0.6666666666666666,
              "#ed7953"
             ],
             [
              0.7777777777777778,
              "#fb9f3a"
             ],
             [
              0.8888888888888888,
              "#fdca26"
             ],
             [
              1,
              "#f0f921"
             ]
            ],
            "type": "surface"
           }
          ],
          "table": [
           {
            "cells": {
             "fill": {
              "color": "#EBF0F8"
             },
             "line": {
              "color": "white"
             }
            },
            "header": {
             "fill": {
              "color": "#C8D4E3"
             },
             "line": {
              "color": "white"
             }
            },
            "type": "table"
           }
          ]
         },
         "layout": {
          "annotationdefaults": {
           "arrowcolor": "#2a3f5f",
           "arrowhead": 0,
           "arrowwidth": 1
          },
          "autotypenumbers": "strict",
          "coloraxis": {
           "colorbar": {
            "outlinewidth": 0,
            "ticks": ""
           }
          },
          "colorscale": {
           "diverging": [
            [
             0,
             "#8e0152"
            ],
            [
             0.1,
             "#c51b7d"
            ],
            [
             0.2,
             "#de77ae"
            ],
            [
             0.3,
             "#f1b6da"
            ],
            [
             0.4,
             "#fde0ef"
            ],
            [
             0.5,
             "#f7f7f7"
            ],
            [
             0.6,
             "#e6f5d0"
            ],
            [
             0.7,
             "#b8e186"
            ],
            [
             0.8,
             "#7fbc41"
            ],
            [
             0.9,
             "#4d9221"
            ],
            [
             1,
             "#276419"
            ]
           ],
           "sequential": [
            [
             0,
             "#0d0887"
            ],
            [
             0.1111111111111111,
             "#46039f"
            ],
            [
             0.2222222222222222,
             "#7201a8"
            ],
            [
             0.3333333333333333,
             "#9c179e"
            ],
            [
             0.4444444444444444,
             "#bd3786"
            ],
            [
             0.5555555555555556,
             "#d8576b"
            ],
            [
             0.6666666666666666,
             "#ed7953"
            ],
            [
             0.7777777777777778,
             "#fb9f3a"
            ],
            [
             0.8888888888888888,
             "#fdca26"
            ],
            [
             1,
             "#f0f921"
            ]
           ],
           "sequentialminus": [
            [
             0,
             "#0d0887"
            ],
            [
             0.1111111111111111,
             "#46039f"
            ],
            [
             0.2222222222222222,
             "#7201a8"
            ],
            [
             0.3333333333333333,
             "#9c179e"
            ],
            [
             0.4444444444444444,
             "#bd3786"
            ],
            [
             0.5555555555555556,
             "#d8576b"
            ],
            [
             0.6666666666666666,
             "#ed7953"
            ],
            [
             0.7777777777777778,
             "#fb9f3a"
            ],
            [
             0.8888888888888888,
             "#fdca26"
            ],
            [
             1,
             "#f0f921"
            ]
           ]
          },
          "colorway": [
           "#636efa",
           "#EF553B",
           "#00cc96",
           "#ab63fa",
           "#FFA15A",
           "#19d3f3",
           "#FF6692",
           "#B6E880",
           "#FF97FF",
           "#FECB52"
          ],
          "font": {
           "color": "#2a3f5f"
          },
          "geo": {
           "bgcolor": "white",
           "lakecolor": "white",
           "landcolor": "#E5ECF6",
           "showlakes": true,
           "showland": true,
           "subunitcolor": "white"
          },
          "hoverlabel": {
           "align": "left"
          },
          "hovermode": "closest",
          "mapbox": {
           "style": "light"
          },
          "paper_bgcolor": "white",
          "plot_bgcolor": "#E5ECF6",
          "polar": {
           "angularaxis": {
            "gridcolor": "white",
            "linecolor": "white",
            "ticks": ""
           },
           "bgcolor": "#E5ECF6",
           "radialaxis": {
            "gridcolor": "white",
            "linecolor": "white",
            "ticks": ""
           }
          },
          "scene": {
           "xaxis": {
            "backgroundcolor": "#E5ECF6",
            "gridcolor": "white",
            "gridwidth": 2,
            "linecolor": "white",
            "showbackground": true,
            "ticks": "",
            "zerolinecolor": "white"
           },
           "yaxis": {
            "backgroundcolor": "#E5ECF6",
            "gridcolor": "white",
            "gridwidth": 2,
            "linecolor": "white",
            "showbackground": true,
            "ticks": "",
            "zerolinecolor": "white"
           },
           "zaxis": {
            "backgroundcolor": "#E5ECF6",
            "gridcolor": "white",
            "gridwidth": 2,
            "linecolor": "white",
            "showbackground": true,
            "ticks": "",
            "zerolinecolor": "white"
           }
          },
          "shapedefaults": {
           "line": {
            "color": "#2a3f5f"
           }
          },
          "ternary": {
           "aaxis": {
            "gridcolor": "white",
            "linecolor": "white",
            "ticks": ""
           },
           "baxis": {
            "gridcolor": "white",
            "linecolor": "white",
            "ticks": ""
           },
           "bgcolor": "#E5ECF6",
           "caxis": {
            "gridcolor": "white",
            "linecolor": "white",
            "ticks": ""
           }
          },
          "title": {
           "x": 0.05
          },
          "xaxis": {
           "automargin": true,
           "gridcolor": "white",
           "linecolor": "white",
           "ticks": "",
           "title": {
            "standoff": 15
           },
           "zerolinecolor": "white",
           "zerolinewidth": 2
          },
          "yaxis": {
           "automargin": true,
           "gridcolor": "white",
           "linecolor": "white",
           "ticks": "",
           "title": {
            "standoff": 15
           },
           "zerolinecolor": "white",
           "zerolinewidth": 2
          }
         }
        },
        "title": {
         "text": "Cantidad de Variables por Tipo de Dato"
        },
        "xaxis": {
         "anchor": "y",
         "domain": [
          0,
          1
         ],
         "title": {
          "text": "Tipo de Dato"
         }
        },
        "yaxis": {
         "anchor": "x",
         "domain": [
          0,
          1
         ],
         "title": {
          "text": "Cantidad de Variables"
         }
        }
       }
      }
     },
     "metadata": {},
     "output_type": "display_data"
    }
   ],
   "source": [
    "data_types = df.dtypes.value_counts()\n",
    "fig_dtypes = px.bar(\n",
    "    x=data_types.index.astype(str), \n",
    "    y=data_types.values, color = data_types.values,\n",
    "    labels={'y':'Cantidad de Variables', 'x':'Tipo de Dato'},\n",
    "    title='Cantidad de Variables por Tipo de Dato'\n",
    ")\n",
    "fig_dtypes.show()"
   ]
  },
  {
   "cell_type": "markdown",
   "metadata": {},
   "source": [
    "Tenemos en su mayoría datos object o categóricos."
   ]
  },
  {
   "cell_type": "markdown",
   "metadata": {},
   "source": [
    "- Podemos observar que hay una cantidad considerable de valores nulos en las variables MetaScore, Gross y Certification.\n",
    "- Nuestra variable objetivo \"Gross\" tiene casi un 30% de los datos perdidos, por lo tanto es necesario un trabajo de imputación antes de seguir trabajando el modelo.\n",
    "- La desviación estándar de la variable \"Gross\" es alarmantemente alta, lo que significa que el éxito financiero de un film es difícil de predecir, necesitamos más contexto de la distribución de los datos mediante gráficos para visualizar cómo se distribuyen."
   ]
  },
  {
   "cell_type": "code",
   "execution_count": 23,
   "metadata": {},
   "outputs": [],
   "source": [
    "#Para una mejor visualización, trataremos los ingresos brutos en Millones\n",
    "df['Gross'] = df['Gross']/10**6"
   ]
  },
  {
   "cell_type": "code",
   "execution_count": 24,
   "metadata": {},
   "outputs": [
    {
     "data": {
      "text/plain": [
       "MovieName\n",
       "The Shawshank Redemption                28.34\n",
       "The Godfather                          134.97\n",
       "Ramayana: The Legend of Prince Rama       NaN\n",
       "The Chaos Class                           NaN\n",
       "The Dark Knight                        534.86\n",
       "Name: Gross, dtype: float64"
      ]
     },
     "execution_count": 24,
     "metadata": {},
     "output_type": "execute_result"
    }
   ],
   "source": [
    "df['Gross'].head()"
   ]
  },
  {
   "cell_type": "code",
   "execution_count": 10,
   "metadata": {},
   "outputs": [
    {
     "data": {
      "image/png": "[encoded data removed]",
      "text/plain": [
       "<Figure size 1500x1500 with 16 Axes>"
      ]
     },
     "metadata": {},
     "output_type": "display_data"
    }
   ],
   "source": [
    "df.hist(bins=30, figsize=(15, 15), layout=(4, 4))\n",
    "plt.show()"
   ]
  },
  {
   "cell_type": "code",
   "execution_count": 11,
   "metadata": {},
   "outputs": [
    {
     "name": "stderr",
     "output_type": "stream",
     "text": [
      "C:\\Users\\pablo\\AppData\\Local\\Temp\\ipykernel_1128\\3601176126.py:1: FutureWarning:\n",
      "\n",
      "The default value of numeric_only in DataFrame.corr is deprecated. In a future version, it will default to False. Select only valid columns or specify the value of numeric_only to silence this warning.\n",
      "\n"
     ]
    },
    {
     "data": {
      "image/png": "[encoded data removed]",
      "text/plain": [
       "<Figure size 1200x900 with 2 Axes>"
      ]
     },
     "metadata": {},
     "output_type": "display_data"
    }
   ],
   "source": [
    "corr_matrix = df.corr()\n",
    "plt.figure(figsize=(12, 9))\n",
    "sns.heatmap(corr_matrix, annot=True, cmap='coolwarm', linewidths=1, linecolor='black')\n",
    "plt.title(\"Mapa de Calor - Correlación\")\n",
    "plt.show()"
   ]
  },
  {
   "cell_type": "markdown",
   "metadata": {},
   "source": [
    "A partir de esta matriz de correlación podemos decir que para nuestra variable objetivo \"Gross\":\n",
    "- YearOfRelease tiene una débil pero considerable relación con la variable objetivo.\n",
    "- RunTime también tiene una correlación débil pero considerable al fin y al cabo.\n",
    "- Votes es la característica que más correlación tiene con la variable objetivo, con un importante 0.61"
   ]
  },
  {
   "cell_type": "code",
   "execution_count": 12,
   "metadata": {},
   "outputs": [
    {
     "data": {
      "text/html": [
       "<div>\n",
       "<style scoped>\n",
       "    .dataframe tbody tr th:only-of-type {\n",
       "        vertical-align: middle;\n",
       "    }\n",
       "\n",
       "    .dataframe tbody tr th {\n",
       "        vertical-align: top;\n",
       "    }\n",
       "\n",
       "    .dataframe thead th {\n",
       "        text-align: right;\n",
       "    }\n",
       "</style>\n",
       "<table border=\"1\" class=\"dataframe\">\n",
       "  <thead>\n",
       "    <tr style=\"text-align: right;\">\n",
       "      <th></th>\n",
       "      <th>YearOfRelease</th>\n",
       "      <th>RunTime</th>\n",
       "      <th>MovieRating</th>\n",
       "      <th>Votes</th>\n",
       "      <th>MetaScore</th>\n",
       "      <th>Gross</th>\n",
       "      <th>Genre</th>\n",
       "      <th>Certification</th>\n",
       "      <th>Director</th>\n",
       "      <th>Stars</th>\n",
       "      <th>Description</th>\n",
       "    </tr>\n",
       "    <tr>\n",
       "      <th>MovieName</th>\n",
       "      <th></th>\n",
       "      <th></th>\n",
       "      <th></th>\n",
       "      <th></th>\n",
       "      <th></th>\n",
       "      <th></th>\n",
       "      <th></th>\n",
       "      <th></th>\n",
       "      <th></th>\n",
       "      <th></th>\n",
       "      <th></th>\n",
       "    </tr>\n",
       "  </thead>\n",
       "  <tbody>\n",
       "    <tr>\n",
       "      <th>Spider-Man: Across the Spider-Verse</th>\n",
       "      <td>2023</td>\n",
       "      <td>140</td>\n",
       "      <td>8.7</td>\n",
       "      <td>270500</td>\n",
       "      <td>86.0</td>\n",
       "      <td>NaN</td>\n",
       "      <td>['Animation', ' Action', ' Adventure']</td>\n",
       "      <td>PG</td>\n",
       "      <td>['Joaquim Dos Santos', 'Kemp Powers', 'Justin K. Thompson']</td>\n",
       "      <td>['Shameik Moore', 'Hailee Steinfeld', 'Brian Tyree Henry', 'Luna Lauren Velez']</td>\n",
       "      <td>['Miles', 'Morales', 'catapults', 'across', 'the', 'Multiverse,', 'where', 'he', 'encounters', 'a', 'team', 'of', 'Spider-People', 'charged', 'with', 'protecting', 'its', 'very', 'existence.', 'When', 'the', 'heroes', 'clash', 'on', 'how', 'to', 'handle', 'a', 'new', 'threat,', 'Miles', 'must', 'redefine', 'what', 'it', 'means', 'to', 'be', 'a', 'hero.']</td>\n",
       "    </tr>\n",
       "    <tr>\n",
       "      <th>Oppenheimer</th>\n",
       "      <td>2023</td>\n",
       "      <td>180</td>\n",
       "      <td>8.6</td>\n",
       "      <td>451781</td>\n",
       "      <td>88.0</td>\n",
       "      <td>NaN</td>\n",
       "      <td>['Biography', ' Drama', ' History']</td>\n",
       "      <td>R</td>\n",
       "      <td>['Christopher Nolan']</td>\n",
       "      <td>['Cillian Murphy', 'Emily Blunt', 'Matt Damon', 'Robert Downey Jr.']</td>\n",
       "      <td>['The', 'story', 'of', 'American', 'scientist,', 'J.', 'Robert', 'Oppenheimer,', 'and', 'his', 'role', 'in', 'the', 'development', 'of', 'the', 'atomic', 'bomb.']</td>\n",
       "    </tr>\n",
       "    <tr>\n",
       "      <th>Fukrey 3</th>\n",
       "      <td>2023</td>\n",
       "      <td>147</td>\n",
       "      <td>8.3</td>\n",
       "      <td>19540</td>\n",
       "      <td>NaN</td>\n",
       "      <td>NaN</td>\n",
       "      <td>['Comedy', ' Crime', ' Drama']</td>\n",
       "      <td>NaN</td>\n",
       "      <td>['Mrighdeep Lamba']</td>\n",
       "      <td>['Pulkit Samrat', 'Varun Sharma', 'Manjot Singh', 'Richa Chadha']</td>\n",
       "      <td>['The', 'friends', 'facing', 'disastrously', 'funny', 'situations', 'together', 'and', 'having', 'each', \"other's\", 'backs', 'through', 'the', 'trenches', 'to', 'make', 'it', 'out', 'of', 'a', 'new', 'mess', 'this', 'time.']</td>\n",
       "    </tr>\n",
       "    <tr>\n",
       "      <th>The Vaccine War</th>\n",
       "      <td>2023</td>\n",
       "      <td>161</td>\n",
       "      <td>8.2</td>\n",
       "      <td>19593</td>\n",
       "      <td>NaN</td>\n",
       "      <td>NaN</td>\n",
       "      <td>['Drama', ' Thriller']</td>\n",
       "      <td>NaN</td>\n",
       "      <td>['Vivek Agnihotri']</td>\n",
       "      <td>['Nivedita Bhattacharya', 'Anupam Kher', 'Nana Patekar', 'Girija Oak']</td>\n",
       "      <td>['Based', 'on', \"India's\", 'battle', 'against', 'Covid-19,', 'and', 'the', 'efforts', 'the', 'medical', 'department', 'took', 'to', 'overcome', 'the', 'global', 'crisis.']</td>\n",
       "    </tr>\n",
       "    <tr>\n",
       "      <th>Checkmate</th>\n",
       "      <td>2023</td>\n",
       "      <td>112</td>\n",
       "      <td>8.1</td>\n",
       "      <td>23860</td>\n",
       "      <td>NaN</td>\n",
       "      <td>NaN</td>\n",
       "      <td>['Action', ' Comedy']</td>\n",
       "      <td>18+</td>\n",
       "      <td>['Akriti Bajpai', 'Harsh Beniwal']</td>\n",
       "      <td>['Harsh Beniwal', 'Mohit Chhikara', 'Aditya Paul', 'Vishal Vashishtha']</td>\n",
       "      <td>['An', 'assassin', 'gets', 'hired', 'for', 'a', 'job', 'that', 'throws', 'him', 'in', 'a', 'murky', 'pool', 'of', 'mishaps,', 'eventually', 'leading', 'to', 'a', 'baffling', 'secret.']</td>\n",
       "    </tr>\n",
       "    <tr>\n",
       "      <th>...</th>\n",
       "      <td>...</td>\n",
       "      <td>...</td>\n",
       "      <td>...</td>\n",
       "      <td>...</td>\n",
       "      <td>...</td>\n",
       "      <td>...</td>\n",
       "      <td>...</td>\n",
       "      <td>...</td>\n",
       "      <td>...</td>\n",
       "      <td>...</td>\n",
       "      <td>...</td>\n",
       "    </tr>\n",
       "    <tr>\n",
       "      <th>Summer Catch</th>\n",
       "      <td>2001</td>\n",
       "      <td>104</td>\n",
       "      <td>5.1</td>\n",
       "      <td>16477</td>\n",
       "      <td>21.0</td>\n",
       "      <td>19690000.0</td>\n",
       "      <td>['Comedy', ' Drama', ' Romance']</td>\n",
       "      <td>PG-13</td>\n",
       "      <td>['Michael Tollin']</td>\n",
       "      <td>['Freddie Prinze Jr.', 'Jessica Biel', 'Fred Ward', 'Matthew Lillard']</td>\n",
       "      <td>['A', 'rich', 'girl', 'whose', 'family', 'summers', 'on', 'Cape', 'Cod', 'has', 'a', 'romance', 'with', 'a', 'local', 'poor', 'boy', 'who', 'hopes', 'to', 'become', 'a', 'major', 'league', 'baseball', 'player.']</td>\n",
       "    </tr>\n",
       "    <tr>\n",
       "      <th>Say It Isn't So</th>\n",
       "      <td>2001</td>\n",
       "      <td>95</td>\n",
       "      <td>5.0</td>\n",
       "      <td>13629</td>\n",
       "      <td>21.0</td>\n",
       "      <td>5520000.0</td>\n",
       "      <td>['Comedy', ' Romance']</td>\n",
       "      <td>R</td>\n",
       "      <td>['J.B. Rogers']</td>\n",
       "      <td>['Chris Klein', 'Heather Graham', 'Orlando Jones', 'Sally Field']</td>\n",
       "      <td>['Jo', 'and', 'Gilly', 'date.', 'They', 'find', 'out', \"they're\", 'brother', 'and', 'sister.', 'Jo', 'moves', 'away.', 'Gilly', 'finds', 'out', 'that', \"he's\", 'not', \"Jo's\", 'brother', 'and', 'that', \"Jo's\", 'getting', 'married.', 'Can', 'he', 'stop', 'the', 'wedding', 'in', 'time?']</td>\n",
       "    </tr>\n",
       "    <tr>\n",
       "      <th>Ghosts of Mars</th>\n",
       "      <td>2001</td>\n",
       "      <td>98</td>\n",
       "      <td>4.9</td>\n",
       "      <td>56683</td>\n",
       "      <td>35.0</td>\n",
       "      <td>8430000.0</td>\n",
       "      <td>['Action', ' Horror', ' Sci-Fi']</td>\n",
       "      <td>R</td>\n",
       "      <td>['John Carpenter']</td>\n",
       "      <td>['Natasha Henstridge', 'Ice Cube', 'Pam Grier', 'Jason Statham']</td>\n",
       "      <td>['In', '2176,', 'a', 'Martian', 'police', 'unit', 'is', 'sent', 'to', 'pick', 'up', 'a', 'highly', 'dangerous', 'criminal', 'at', 'a', 'remote', 'mining', 'post.', 'Upon', 'arrival,', 'the', 'cops', 'find', 'that', 'the', 'post', 'has', 'become', 'a', 'charnel', 'house.']</td>\n",
       "    </tr>\n",
       "    <tr>\n",
       "      <th>Valentine</th>\n",
       "      <td>2001</td>\n",
       "      <td>96</td>\n",
       "      <td>4.9</td>\n",
       "      <td>29586</td>\n",
       "      <td>18.0</td>\n",
       "      <td>20380000.0</td>\n",
       "      <td>['Horror', ' Mystery', ' Thriller']</td>\n",
       "      <td>R</td>\n",
       "      <td>['Jamie Blanks']</td>\n",
       "      <td>['Denise Richards', 'David Boreanaz', 'Marley Shelton', 'Jessica Capshaw']</td>\n",
       "      <td>['Five', 'women', 'are', 'stalked', 'by', 'an', 'unknown', 'assailant', 'while', 'preparing', 'for', \"Valentine's\", 'Day.']</td>\n",
       "    </tr>\n",
       "    <tr>\n",
       "      <th>Black Knight</th>\n",
       "      <td>2001</td>\n",
       "      <td>95</td>\n",
       "      <td>4.9</td>\n",
       "      <td>42491</td>\n",
       "      <td>32.0</td>\n",
       "      <td>33420000.0</td>\n",
       "      <td>['Adventure', ' Comedy', ' Fantasy']</td>\n",
       "      <td>PG-13</td>\n",
       "      <td>['Gil Junger']</td>\n",
       "      <td>['Martin Lawrence', 'Marsha Thomason', 'Tom Wilkinson', 'Vincent Regan']</td>\n",
       "      <td>['Martin', 'Lawrence', 'plays', 'Jamal,', 'an', 'employee', 'in', 'Medieval', 'World', 'amusement', 'park.', 'After', 'sustaining', 'a', 'blow', 'to', 'the', 'head,', 'he', 'awakens', 'to', 'find', 'himself', 'in', '14th', 'century', 'England.']</td>\n",
       "    </tr>\n",
       "  </tbody>\n",
       "</table>\n",
       "<p>6439 rows × 11 columns</p>\n",
       "</div>"
      ],
      "text/plain": [
       "                                     YearOfRelease  RunTime  MovieRating  \\\n",
       "MovieName                                                                  \n",
       "Spider-Man: Across the Spider-Verse           2023      140          8.7   \n",
       "Oppenheimer                                   2023      180          8.6   \n",
       "Fukrey 3                                      2023      147          8.3   \n",
       "The Vaccine War                               2023      161          8.2   \n",
       "Checkmate                                     2023      112          8.1   \n",
       "...                                            ...      ...          ...   \n",
       "Summer Catch                                  2001      104          5.1   \n",
       "Say It Isn't So                               2001       95          5.0   \n",
       "Ghosts of Mars                                2001       98          4.9   \n",
       "Valentine                                     2001       96          4.9   \n",
       "Black Knight                                  2001       95          4.9   \n",
       "\n",
       "                                      Votes  MetaScore       Gross  \\\n",
       "MovieName                                                            \n",
       "Spider-Man: Across the Spider-Verse  270500       86.0         NaN   \n",
       "Oppenheimer                          451781       88.0         NaN   \n",
       "Fukrey 3                              19540        NaN         NaN   \n",
       "The Vaccine War                       19593        NaN         NaN   \n",
       "Checkmate                             23860        NaN         NaN   \n",
       "...                                     ...        ...         ...   \n",
       "Summer Catch                          16477       21.0  19690000.0   \n",
       "Say It Isn't So                       13629       21.0   5520000.0   \n",
       "Ghosts of Mars                        56683       35.0   8430000.0   \n",
       "Valentine                             29586       18.0  20380000.0   \n",
       "Black Knight                          42491       32.0  33420000.0   \n",
       "\n",
       "                                                                      Genre  \\\n",
       "MovieName                                                                     \n",
       "Spider-Man: Across the Spider-Verse  ['Animation', ' Action', ' Adventure']   \n",
       "Oppenheimer                             ['Biography', ' Drama', ' History']   \n",
       "Fukrey 3                                     ['Comedy', ' Crime', ' Drama']   \n",
       "The Vaccine War                                      ['Drama', ' Thriller']   \n",
       "Checkmate                                             ['Action', ' Comedy']   \n",
       "...                                                                     ...   \n",
       "Summer Catch                               ['Comedy', ' Drama', ' Romance']   \n",
       "Say It Isn't So                                      ['Comedy', ' Romance']   \n",
       "Ghosts of Mars                             ['Action', ' Horror', ' Sci-Fi']   \n",
       "Valentine                               ['Horror', ' Mystery', ' Thriller']   \n",
       "Black Knight                           ['Adventure', ' Comedy', ' Fantasy']   \n",
       "\n",
       "                                    Certification  \\\n",
       "MovieName                                           \n",
       "Spider-Man: Across the Spider-Verse            PG   \n",
       "Oppenheimer                                     R   \n",
       "Fukrey 3                                      NaN   \n",
       "The Vaccine War                               NaN   \n",
       "Checkmate                                     18+   \n",
       "...                                           ...   \n",
       "Summer Catch                                PG-13   \n",
       "Say It Isn't So                                 R   \n",
       "Ghosts of Mars                                  R   \n",
       "Valentine                                       R   \n",
       "Black Knight                                PG-13   \n",
       "\n",
       "                                                                                        Director  \\\n",
       "MovieName                                                                                          \n",
       "Spider-Man: Across the Spider-Verse  ['Joaquim Dos Santos', 'Kemp Powers', 'Justin K. Thompson']   \n",
       "Oppenheimer                                                                ['Christopher Nolan']   \n",
       "Fukrey 3                                                                     ['Mrighdeep Lamba']   \n",
       "The Vaccine War                                                              ['Vivek Agnihotri']   \n",
       "Checkmate                                                     ['Akriti Bajpai', 'Harsh Beniwal']   \n",
       "...                                                                                          ...   \n",
       "Summer Catch                                                                  ['Michael Tollin']   \n",
       "Say It Isn't So                                                                  ['J.B. Rogers']   \n",
       "Ghosts of Mars                                                                ['John Carpenter']   \n",
       "Valentine                                                                       ['Jamie Blanks']   \n",
       "Black Knight                                                                      ['Gil Junger']   \n",
       "\n",
       "                                                                                                               Stars  \\\n",
       "MovieName                                                                                                              \n",
       "Spider-Man: Across the Spider-Verse  ['Shameik Moore', 'Hailee Steinfeld', 'Brian Tyree Henry', 'Luna Lauren Velez']   \n",
       "Oppenheimer                                     ['Cillian Murphy', 'Emily Blunt', 'Matt Damon', 'Robert Downey Jr.']   \n",
       "Fukrey 3                                           ['Pulkit Samrat', 'Varun Sharma', 'Manjot Singh', 'Richa Chadha']   \n",
       "The Vaccine War                               ['Nivedita Bhattacharya', 'Anupam Kher', 'Nana Patekar', 'Girija Oak']   \n",
       "Checkmate                                    ['Harsh Beniwal', 'Mohit Chhikara', 'Aditya Paul', 'Vishal Vashishtha']   \n",
       "...                                                                                                              ...   \n",
       "Summer Catch                                  ['Freddie Prinze Jr.', 'Jessica Biel', 'Fred Ward', 'Matthew Lillard']   \n",
       "Say It Isn't So                                    ['Chris Klein', 'Heather Graham', 'Orlando Jones', 'Sally Field']   \n",
       "Ghosts of Mars                                      ['Natasha Henstridge', 'Ice Cube', 'Pam Grier', 'Jason Statham']   \n",
       "Valentine                                 ['Denise Richards', 'David Boreanaz', 'Marley Shelton', 'Jessica Capshaw']   \n",
       "Black Knight                                ['Martin Lawrence', 'Marsha Thomason', 'Tom Wilkinson', 'Vincent Regan']   \n",
       "\n",
       "                                                                                                                                                                                                                                                                                                                                                                                              Description  \n",
       "MovieName                                                                                                                                                                                                                                                                                                                                                                                                  \n",
       "Spider-Man: Across the Spider-Verse  ['Miles', 'Morales', 'catapults', 'across', 'the', 'Multiverse,', 'where', 'he', 'encounters', 'a', 'team', 'of', 'Spider-People', 'charged', 'with', 'protecting', 'its', 'very', 'existence.', 'When', 'the', 'heroes', 'clash', 'on', 'how', 'to', 'handle', 'a', 'new', 'threat,', 'Miles', 'must', 'redefine', 'what', 'it', 'means', 'to', 'be', 'a', 'hero.']  \n",
       "Oppenheimer                                                                                                                                                                                                                            ['The', 'story', 'of', 'American', 'scientist,', 'J.', 'Robert', 'Oppenheimer,', 'and', 'his', 'role', 'in', 'the', 'development', 'of', 'the', 'atomic', 'bomb.']  \n",
       "Fukrey 3                                                                                                                                                                 ['The', 'friends', 'facing', 'disastrously', 'funny', 'situations', 'together', 'and', 'having', 'each', \"other's\", 'backs', 'through', 'the', 'trenches', 'to', 'make', 'it', 'out', 'of', 'a', 'new', 'mess', 'this', 'time.']  \n",
       "The Vaccine War                                                                                                                                                                                                               ['Based', 'on', \"India's\", 'battle', 'against', 'Covid-19,', 'and', 'the', 'efforts', 'the', 'medical', 'department', 'took', 'to', 'overcome', 'the', 'global', 'crisis.']  \n",
       "Checkmate                                                                                                                                                                                                        ['An', 'assassin', 'gets', 'hired', 'for', 'a', 'job', 'that', 'throws', 'him', 'in', 'a', 'murky', 'pool', 'of', 'mishaps,', 'eventually', 'leading', 'to', 'a', 'baffling', 'secret.']  \n",
       "...                                                                                                                                                                                                                                                                                                                                                                                                   ...  \n",
       "Summer Catch                                                                                                                                                                          ['A', 'rich', 'girl', 'whose', 'family', 'summers', 'on', 'Cape', 'Cod', 'has', 'a', 'romance', 'with', 'a', 'local', 'poor', 'boy', 'who', 'hopes', 'to', 'become', 'a', 'major', 'league', 'baseball', 'player.']  \n",
       "Say It Isn't So                                                                                             ['Jo', 'and', 'Gilly', 'date.', 'They', 'find', 'out', \"they're\", 'brother', 'and', 'sister.', 'Jo', 'moves', 'away.', 'Gilly', 'finds', 'out', 'that', \"he's\", 'not', \"Jo's\", 'brother', 'and', 'that', \"Jo's\", 'getting', 'married.', 'Can', 'he', 'stop', 'the', 'wedding', 'in', 'time?']  \n",
       "Ghosts of Mars                                                                                                           ['In', '2176,', 'a', 'Martian', 'police', 'unit', 'is', 'sent', 'to', 'pick', 'up', 'a', 'highly', 'dangerous', 'criminal', 'at', 'a', 'remote', 'mining', 'post.', 'Upon', 'arrival,', 'the', 'cops', 'find', 'that', 'the', 'post', 'has', 'become', 'a', 'charnel', 'house.']  \n",
       "Valentine                                                                                                                                                                                                                                                                     ['Five', 'women', 'are', 'stalked', 'by', 'an', 'unknown', 'assailant', 'while', 'preparing', 'for', \"Valentine's\", 'Day.']  \n",
       "Black Knight                                                                                                                                        ['Martin', 'Lawrence', 'plays', 'Jamal,', 'an', 'employee', 'in', 'Medieval', 'World', 'amusement', 'park.', 'After', 'sustaining', 'a', 'blow', 'to', 'the', 'head,', 'he', 'awakens', 'to', 'find', 'himself', 'in', '14th', 'century', 'England.']  \n",
       "\n",
       "[6439 rows x 11 columns]"
      ]
     },
     "execution_count": 12,
     "metadata": {},
     "output_type": "execute_result"
    }
   ],
   "source": [
    "\n",
    "df[df['YearOfRelease']>2000].sort_values(by=['YearOfRelease','MovieRating'], ascending=[False,False])"
   ]
  },
  {
   "cell_type": "markdown",
   "metadata": {},
   "source": [
    "# Catégorias"
   ]
  },
  {
   "cell_type": "code",
   "execution_count": 13,
   "metadata": {},
   "outputs": [
    {
     "name": "stdout",
     "output_type": "stream",
     "text": [
      "Action 2491\n",
      "Adventure 1674\n",
      "Animation 480\n",
      "Biography 690\n",
      "Comedy 3624\n",
      "Crime 2103\n",
      "Drama 5885\n",
      "Family 460\n",
      "Fantasy 717\n",
      "Film-Noir 61\n",
      "History 351\n",
      "Horror 1210\n",
      "Music 282\n",
      "Musical 133\n",
      "Mystery 1092\n",
      "Romance 1748\n",
      "Sci-Fi 678\n",
      "Sport 204\n",
      "Thriller 1663\n",
      "War 238\n",
      "Western 112\n"
     ]
    }
   ],
   "source": [
    "genres=[]\n",
    "\n",
    "for item in df['Genre']:\n",
    "    item=item.strip('[').strip(']')\n",
    "    [genres.append(genre.replace(\"' \",\"'\").replace(\"'\",\"\").strip(\" \")) for genre in item.split(',')]\n",
    "genres=pd.Series(genres)\n",
    "genres,frequency=np.unique(genres,return_counts=True)\n",
    "\n",
    "for i in range(len(genres)):\n",
    "    print(genres[i], frequency[i])\n"
   ]
  },
  {
   "cell_type": "code",
   "execution_count": 17,
   "metadata": {},
   "outputs": [],
   "source": [
    "y = df['Gross']"
   ]
  },
  {
   "cell_type": "code",
   "execution_count": 18,
   "metadata": {},
   "outputs": [],
   "source": [
    "X = df[['YearOfRelease', 'RunTime', 'Votes']]"
   ]
  },
  {
   "cell_type": "code",
   "execution_count": 26,
   "metadata": {},
   "outputs": [
    {
     "data": {
      "image/png": "[encoded data removed]",
      "text/plain": [
       "<Figure size 640x480 with 1 Axes>"
      ]
     },
     "metadata": {},
     "output_type": "display_data"
    },
    {
     "data": {
      "text/plain": [
       "<Figure size 1800x600 with 0 Axes>"
      ]
     },
     "metadata": {},
     "output_type": "display_data"
    }
   ],
   "source": [
    "fig, ax = plt.subplots()\n",
    "ax.bar(X['YearOfRelease'], y, width=1, edgecolor=\"white\", linewidth=0.5)\n",
    "plt.title('Ingresos brutos por año')\n",
    "plt.figure(figsize=(18,6))\n",
    "plt.show()"
   ]
  },
  {
   "cell_type": "code",
   "execution_count": 27,
   "metadata": {},
   "outputs": [
    {
     "data": {
      "image/png": "[encoded data removed]",
      "text/plain": [
       "<Figure size 640x480 with 1 Axes>"
      ]
     },
     "metadata": {},
     "output_type": "display_data"
    },
    {
     "data": {
      "text/plain": [
       "<Figure size 1600x1600 with 0 Axes>"
      ]
     },
     "metadata": {},
     "output_type": "display_data"
    }
   ],
   "source": [
    "fig, ax = plt.subplots()\n",
    "ax.bar(X['RunTime'], y)\n",
    "plt.title('Ingresos brutos por duración')\n",
    "plt.figure(figsize=(16,16))\n",
    "plt.show()"
   ]
  },
  {
   "cell_type": "code",
   "execution_count": 31,
   "metadata": {},
   "outputs": [
    {
     "name": "stderr",
     "output_type": "stream",
     "text": [
      "C:\\Users\\pablo\\AppData\\Local\\Temp\\ipykernel_1128\\2403597135.py:1: SettingWithCopyWarning:\n",
      "\n",
      "\n",
      "A value is trying to be set on a copy of a slice from a DataFrame.\n",
      "Try using .loc[row_indexer,col_indexer] = value instead\n",
      "\n",
      "See the caveats in the documentation: https://pandas.pydata.org/pandas-docs/stable/user_guide/indexing.html#returning-a-view-versus-a-copy\n",
      "\n"
     ]
    }
   ],
   "source": [
    "#Los votos los trataremos en el orden de los miles\n",
    "X['Votes'] = X['Votes']/10**3"
   ]
  },
  {
   "cell_type": "code",
   "execution_count": 33,
   "metadata": {},
   "outputs": [
    {
     "data": {
      "image/png": "[encoded data removed]",
      "text/plain": [
       "<Figure size 640x480 with 1 Axes>"
      ]
     },
     "metadata": {},
     "output_type": "display_data"
    }
   ],
   "source": [
    "fig, ax = plt.subplots()\n",
    "ax.bar(X['Votes'], y)\n",
    "plt.title('Ingresos brutos por número de votos')\n",
    "plt.xlabel(\"Votos\")\n",
    "plt.ylabel(\"Ingresos\")\n",
    "plt.show()"
   ]
  },
  {
   "cell_type": "markdown",
   "metadata": {},
   "source": [
    "# Preprocesamiento de los datos"
   ]
  },
  {
   "cell_type": "markdown",
   "metadata": {},
   "source": [
    "# Imputación de datos"
   ]
  },
  {
   "cell_type": "code",
   "execution_count": 144,
   "metadata": {},
   "outputs": [
    {
     "data": {
      "text/html": [
       "<div>\n",
       "<style scoped>\n",
       "    .dataframe tbody tr th:only-of-type {\n",
       "        vertical-align: middle;\n",
       "    }\n",
       "\n",
       "    .dataframe tbody tr th {\n",
       "        vertical-align: top;\n",
       "    }\n",
       "\n",
       "    .dataframe thead th {\n",
       "        text-align: right;\n",
       "    }\n",
       "</style>\n",
       "<table border=\"1\" class=\"dataframe\">\n",
       "  <thead>\n",
       "    <tr style=\"text-align: right;\">\n",
       "      <th></th>\n",
       "      <th>MovieName</th>\n",
       "      <th>YearOfRelease</th>\n",
       "      <th>RunTime</th>\n",
       "      <th>MovieRating</th>\n",
       "      <th>Votes</th>\n",
       "      <th>MetaScore</th>\n",
       "      <th>Gross</th>\n",
       "      <th>Genre</th>\n",
       "      <th>Certification</th>\n",
       "      <th>Director</th>\n",
       "      <th>Stars</th>\n",
       "      <th>Description</th>\n",
       "    </tr>\n",
       "  </thead>\n",
       "  <tbody>\n",
       "    <tr>\n",
       "      <th>0</th>\n",
       "      <td>The Shawshank Redemption</td>\n",
       "      <td>1994</td>\n",
       "      <td>142</td>\n",
       "      <td>9.3</td>\n",
       "      <td>2804443</td>\n",
       "      <td>82.000000</td>\n",
       "      <td>28340000.0</td>\n",
       "      <td>['Drama']</td>\n",
       "      <td>R</td>\n",
       "      <td>['Frank Darabont']</td>\n",
       "      <td>['Tim Robbins', 'Morgan Freeman', 'Bob Gunton', 'William Sadler']</td>\n",
       "      <td>['Over', 'the', 'course', 'of', 'several', 'years,', 'two', 'convicts', 'form', 'a', 'friendship,', 'seeking', 'consolation', 'and,', 'eventually,', 'redemption', 'through', 'basic', 'compassion.']</td>\n",
       "    </tr>\n",
       "    <tr>\n",
       "      <th>1</th>\n",
       "      <td>The Godfather</td>\n",
       "      <td>1972</td>\n",
       "      <td>175</td>\n",
       "      <td>9.2</td>\n",
       "      <td>1954174</td>\n",
       "      <td>100.000000</td>\n",
       "      <td>134970000.0</td>\n",
       "      <td>['Crime', ' Drama']</td>\n",
       "      <td>R</td>\n",
       "      <td>['Francis Ford Coppola']</td>\n",
       "      <td>['Marlon Brando', 'Al Pacino', 'James Caan', 'Diane Keaton']</td>\n",
       "      <td>['Don', 'Vito', 'Corleone,', 'head', 'of', 'a', 'mafia', 'family,', 'decides', 'to', 'hand', 'over', 'his', 'empire', 'to', 'his', 'youngest', 'son', 'Michael.', 'However,', 'his', 'decision', 'unintentionally', 'puts', 'the', 'lives', 'of', 'his', 'loved', 'ones', 'in', 'grave', 'danger.']</td>\n",
       "    </tr>\n",
       "    <tr>\n",
       "      <th>2</th>\n",
       "      <td>Ramayana: The Legend of Prince Rama</td>\n",
       "      <td>1993</td>\n",
       "      <td>135</td>\n",
       "      <td>9.2</td>\n",
       "      <td>12995</td>\n",
       "      <td>98.513391</td>\n",
       "      <td>NaN</td>\n",
       "      <td>['Animation', ' Action', ' Adventure']</td>\n",
       "      <td>PG</td>\n",
       "      <td>['Ram Mohan', 'Yago Sako', 'Koichi Saski']</td>\n",
       "      <td>['Arun Govil', 'Nikhil Kapoor', 'Edie Mirman', 'Rael Padamsee']</td>\n",
       "      <td>['An', 'anime', 'adaptation', 'of', 'the', 'Hindu', 'epic', 'the', 'Ramayana,', 'where', 'Lord', 'Ram', 'combats', 'the', 'wicked', 'king', 'Ravana.']</td>\n",
       "    </tr>\n",
       "    <tr>\n",
       "      <th>3</th>\n",
       "      <td>The Chaos Class</td>\n",
       "      <td>1975</td>\n",
       "      <td>87</td>\n",
       "      <td>9.2</td>\n",
       "      <td>42231</td>\n",
       "      <td>98.513391</td>\n",
       "      <td>NaN</td>\n",
       "      <td>['Comedy', ' Drama']</td>\n",
       "      <td>NaN</td>\n",
       "      <td>['Ertem Egilmez']</td>\n",
       "      <td>['Kemal Sunal', 'Munir Ozkul', 'Halit Akcatepe', 'Tarik Akan']</td>\n",
       "      <td>['Lazy,', 'uneducated', 'students', 'share', 'a', 'very', 'close', 'bond.', 'They', 'live', 'together', 'in', 'the', 'dormitory,', 'where', 'they', 'plan', 'their', 'latest', 'pranks.', 'When', 'a', 'new', 'headmaster', 'arrives,', 'the', 'students', 'naturally', 'try', 'to', 'overthrow', 'him.', 'A', 'comic', 'war', 'of', 'nitwits', 'follows.']</td>\n",
       "    </tr>\n",
       "    <tr>\n",
       "      <th>4</th>\n",
       "      <td>The Dark Knight</td>\n",
       "      <td>2008</td>\n",
       "      <td>152</td>\n",
       "      <td>9.0</td>\n",
       "      <td>2786129</td>\n",
       "      <td>84.000000</td>\n",
       "      <td>534860000.0</td>\n",
       "      <td>['Action', ' Crime', ' Drama']</td>\n",
       "      <td>PG-13</td>\n",
       "      <td>['Christopher Nolan']</td>\n",
       "      <td>['Christian Bale', 'Heath Ledger', 'Aaron Eckhart', 'Michael Caine']</td>\n",
       "      <td>['When', 'the', 'menace', 'known', 'as', 'the', 'Joker', 'wreaks', 'havoc', 'and', 'chaos', 'on', 'the', 'people', 'of', 'Gotham,', 'Batman', 'must', 'accept', 'one', 'of', 'the', 'greatest', 'psychological', 'and', 'physical', 'tests', 'of', 'his', 'ability', 'to', 'fight', 'injustice.']</td>\n",
       "    </tr>\n",
       "    <tr>\n",
       "      <th>...</th>\n",
       "      <td>...</td>\n",
       "      <td>...</td>\n",
       "      <td>...</td>\n",
       "      <td>...</td>\n",
       "      <td>...</td>\n",
       "      <td>...</td>\n",
       "      <td>...</td>\n",
       "      <td>...</td>\n",
       "      <td>...</td>\n",
       "      <td>...</td>\n",
       "      <td>...</td>\n",
       "      <td>...</td>\n",
       "    </tr>\n",
       "    <tr>\n",
       "      <th>9995</th>\n",
       "      <td>Golmaal Again</td>\n",
       "      <td>2017</td>\n",
       "      <td>140</td>\n",
       "      <td>4.9</td>\n",
       "      <td>10183</td>\n",
       "      <td>30.410691</td>\n",
       "      <td>1010000.0</td>\n",
       "      <td>['Action', ' Comedy', ' Fantasy']</td>\n",
       "      <td>Not Rated</td>\n",
       "      <td>['Rohit Shetty']</td>\n",
       "      <td>['Ajay Devgn', 'Arshad Warsi', 'Tabu', 'Shreyas Talpade']</td>\n",
       "      <td>['The', 'gang', 'encounters', 'with', 'some', 'spiritual', 'bodies', 'and', 'finds', 'out', 'the', 'truth', 'about', 'the', 'Jamnadas', 'Orphanage', 'where', 'they', 'were', 'brought', 'up.']</td>\n",
       "    </tr>\n",
       "    <tr>\n",
       "      <th>9996</th>\n",
       "      <td>Not to Forget</td>\n",
       "      <td>2021</td>\n",
       "      <td>84</td>\n",
       "      <td>4.9</td>\n",
       "      <td>11191</td>\n",
       "      <td>30.410691</td>\n",
       "      <td>NaN</td>\n",
       "      <td>['Drama']</td>\n",
       "      <td>NaN</td>\n",
       "      <td>['Valerio Zanoli']</td>\n",
       "      <td>['Karen Grassle', 'Louis Gossett Jr.', \"Tatum O'Neal\", 'Cloris Leachman']</td>\n",
       "      <td>['After', 'a', 'lifetime', 'of', 'scams,', 'a', 'self-centered', 'millennial', 'is', 'sentenced', 'to', 'take', 'care', 'of', 'his', 'grandmother,', 'who', 'suffers', 'from', \"Alzheimer's.\"]</td>\n",
       "    </tr>\n",
       "    <tr>\n",
       "      <th>9997</th>\n",
       "      <td>Housefull 3</td>\n",
       "      <td>2016</td>\n",
       "      <td>140</td>\n",
       "      <td>4.9</td>\n",
       "      <td>10308</td>\n",
       "      <td>30.410691</td>\n",
       "      <td>1160000.0</td>\n",
       "      <td>['Action', ' Comedy', ' Romance']</td>\n",
       "      <td>Not Rated</td>\n",
       "      <td>['Sajid', 'Farhad Samji']</td>\n",
       "      <td>['Akshay Kumar', 'Abhishek Bachchan', 'Riteish Deshmukh', 'Jackie Shroff']</td>\n",
       "      <td>['A', 'father', \"doesn't\", 'want', 'his', 'three', 'daughters', 'to', 'get', 'married.', 'Now,', \"it's\", 'up', 'to', 'three', 'men', 'to', 'try', 'to', 'and', 'convince', 'the', 'father', 'that', \"they're\", 'a', 'good', 'fit', 'for', 'his', 'daughters.']</td>\n",
       "    </tr>\n",
       "    <tr>\n",
       "      <th>9998</th>\n",
       "      <td>A.I. Rising</td>\n",
       "      <td>2018</td>\n",
       "      <td>85</td>\n",
       "      <td>4.9</td>\n",
       "      <td>11187</td>\n",
       "      <td>30.410691</td>\n",
       "      <td>NaN</td>\n",
       "      <td>['Drama', ' Romance', ' Sci-Fi']</td>\n",
       "      <td>R</td>\n",
       "      <td>['Lazar Bodroza']</td>\n",
       "      <td>['Sebastian Cavazza', 'Stoya', 'Marusa Majer', 'Kirsty Besterman']</td>\n",
       "      <td>['An', 'intimate', 'relationship', 'between', 'a', 'human', 'and', 'an', 'android', 'tests', 'the', 'boundaries', 'of', 'human', 'nature.']</td>\n",
       "    </tr>\n",
       "    <tr>\n",
       "      <th>9999</th>\n",
       "      <td>The Last Boy</td>\n",
       "      <td>2019</td>\n",
       "      <td>87</td>\n",
       "      <td>4.9</td>\n",
       "      <td>10324</td>\n",
       "      <td>30.410691</td>\n",
       "      <td>NaN</td>\n",
       "      <td>['Fantasy', ' Mystery', ' Sci-Fi']</td>\n",
       "      <td>NaN</td>\n",
       "      <td>['Perry Bhandal']</td>\n",
       "      <td>['Luke Goss', 'Flynn Allen', 'Peter Guinness', 'Matilda Freeman']</td>\n",
       "      <td>['With', 'the', \"world's\", 'end', 'imminent,', 'a', 'dying', 'mother', 'sends', 'her', 'young', 'son', 'on', 'a', 'journey', 'to', 'the', 'place', 'which', 'grants', 'wishes.', 'The', \"film's\", 'inspired', 'by', 'the', 'works', 'of', '13th', 'century', 'Sufi', 'mystic', 'and', 'poet,', 'Rumi.']</td>\n",
       "    </tr>\n",
       "  </tbody>\n",
       "</table>\n",
       "<p>10000 rows × 12 columns</p>\n",
       "</div>"
      ],
      "text/plain": [
       "                                MovieName  YearOfRelease  RunTime  \\\n",
       "0                The Shawshank Redemption           1994      142   \n",
       "1                           The Godfather           1972      175   \n",
       "2     Ramayana: The Legend of Prince Rama           1993      135   \n",
       "3                         The Chaos Class           1975       87   \n",
       "4                         The Dark Knight           2008      152   \n",
       "...                                   ...            ...      ...   \n",
       "9995                        Golmaal Again           2017      140   \n",
       "9996                        Not to Forget           2021       84   \n",
       "9997                          Housefull 3           2016      140   \n",
       "9998                          A.I. Rising           2018       85   \n",
       "9999                         The Last Boy           2019       87   \n",
       "\n",
       "      MovieRating    Votes   MetaScore        Gross  \\\n",
       "0             9.3  2804443   82.000000   28340000.0   \n",
       "1             9.2  1954174  100.000000  134970000.0   \n",
       "2             9.2    12995   98.513391          NaN   \n",
       "3             9.2    42231   98.513391          NaN   \n",
       "4             9.0  2786129   84.000000  534860000.0   \n",
       "...           ...      ...         ...          ...   \n",
       "9995          4.9    10183   30.410691    1010000.0   \n",
       "9996          4.9    11191   30.410691          NaN   \n",
       "9997          4.9    10308   30.410691    1160000.0   \n",
       "9998          4.9    11187   30.410691          NaN   \n",
       "9999          4.9    10324   30.410691          NaN   \n",
       "\n",
       "                                       Genre Certification  \\\n",
       "0                                  ['Drama']             R   \n",
       "1                        ['Crime', ' Drama']             R   \n",
       "2     ['Animation', ' Action', ' Adventure']            PG   \n",
       "3                       ['Comedy', ' Drama']           NaN   \n",
       "4             ['Action', ' Crime', ' Drama']         PG-13   \n",
       "...                                      ...           ...   \n",
       "9995       ['Action', ' Comedy', ' Fantasy']     Not Rated   \n",
       "9996                               ['Drama']           NaN   \n",
       "9997       ['Action', ' Comedy', ' Romance']     Not Rated   \n",
       "9998        ['Drama', ' Romance', ' Sci-Fi']             R   \n",
       "9999      ['Fantasy', ' Mystery', ' Sci-Fi']           NaN   \n",
       "\n",
       "                                        Director  \\\n",
       "0                             ['Frank Darabont']   \n",
       "1                       ['Francis Ford Coppola']   \n",
       "2     ['Ram Mohan', 'Yago Sako', 'Koichi Saski']   \n",
       "3                              ['Ertem Egilmez']   \n",
       "4                          ['Christopher Nolan']   \n",
       "...                                          ...   \n",
       "9995                            ['Rohit Shetty']   \n",
       "9996                          ['Valerio Zanoli']   \n",
       "9997                   ['Sajid', 'Farhad Samji']   \n",
       "9998                           ['Lazar Bodroza']   \n",
       "9999                           ['Perry Bhandal']   \n",
       "\n",
       "                                                                           Stars  \\\n",
       "0              ['Tim Robbins', 'Morgan Freeman', 'Bob Gunton', 'William Sadler']   \n",
       "1                   ['Marlon Brando', 'Al Pacino', 'James Caan', 'Diane Keaton']   \n",
       "2                ['Arun Govil', 'Nikhil Kapoor', 'Edie Mirman', 'Rael Padamsee']   \n",
       "3                 ['Kemal Sunal', 'Munir Ozkul', 'Halit Akcatepe', 'Tarik Akan']   \n",
       "4           ['Christian Bale', 'Heath Ledger', 'Aaron Eckhart', 'Michael Caine']   \n",
       "...                                                                          ...   \n",
       "9995                   ['Ajay Devgn', 'Arshad Warsi', 'Tabu', 'Shreyas Talpade']   \n",
       "9996   ['Karen Grassle', 'Louis Gossett Jr.', \"Tatum O'Neal\", 'Cloris Leachman']   \n",
       "9997  ['Akshay Kumar', 'Abhishek Bachchan', 'Riteish Deshmukh', 'Jackie Shroff']   \n",
       "9998          ['Sebastian Cavazza', 'Stoya', 'Marusa Majer', 'Kirsty Besterman']   \n",
       "9999           ['Luke Goss', 'Flynn Allen', 'Peter Guinness', 'Matilda Freeman']   \n",
       "\n",
       "                                                                                                                                                                                                                                                                                                                                                      Description  \n",
       "0                                                                                                                                                           ['Over', 'the', 'course', 'of', 'several', 'years,', 'two', 'convicts', 'form', 'a', 'friendship,', 'seeking', 'consolation', 'and,', 'eventually,', 'redemption', 'through', 'basic', 'compassion.']  \n",
       "1                                                             ['Don', 'Vito', 'Corleone,', 'head', 'of', 'a', 'mafia', 'family,', 'decides', 'to', 'hand', 'over', 'his', 'empire', 'to', 'his', 'youngest', 'son', 'Michael.', 'However,', 'his', 'decision', 'unintentionally', 'puts', 'the', 'lives', 'of', 'his', 'loved', 'ones', 'in', 'grave', 'danger.']  \n",
       "2                                                                                                                                                                                                          ['An', 'anime', 'adaptation', 'of', 'the', 'Hindu', 'epic', 'the', 'Ramayana,', 'where', 'Lord', 'Ram', 'combats', 'the', 'wicked', 'king', 'Ravana.']  \n",
       "3     ['Lazy,', 'uneducated', 'students', 'share', 'a', 'very', 'close', 'bond.', 'They', 'live', 'together', 'in', 'the', 'dormitory,', 'where', 'they', 'plan', 'their', 'latest', 'pranks.', 'When', 'a', 'new', 'headmaster', 'arrives,', 'the', 'students', 'naturally', 'try', 'to', 'overthrow', 'him.', 'A', 'comic', 'war', 'of', 'nitwits', 'follows.']  \n",
       "4                                                               ['When', 'the', 'menace', 'known', 'as', 'the', 'Joker', 'wreaks', 'havoc', 'and', 'chaos', 'on', 'the', 'people', 'of', 'Gotham,', 'Batman', 'must', 'accept', 'one', 'of', 'the', 'greatest', 'psychological', 'and', 'physical', 'tests', 'of', 'his', 'ability', 'to', 'fight', 'injustice.']  \n",
       "...                                                                                                                                                                                                                                                                                                                                                           ...  \n",
       "9995                                                                                                                                                              ['The', 'gang', 'encounters', 'with', 'some', 'spiritual', 'bodies', 'and', 'finds', 'out', 'the', 'truth', 'about', 'the', 'Jamnadas', 'Orphanage', 'where', 'they', 'were', 'brought', 'up.']  \n",
       "9996                                                                                                                                                               ['After', 'a', 'lifetime', 'of', 'scams,', 'a', 'self-centered', 'millennial', 'is', 'sentenced', 'to', 'take', 'care', 'of', 'his', 'grandmother,', 'who', 'suffers', 'from', \"Alzheimer's.\"]  \n",
       "9997                                                                                               ['A', 'father', \"doesn't\", 'want', 'his', 'three', 'daughters', 'to', 'get', 'married.', 'Now,', \"it's\", 'up', 'to', 'three', 'men', 'to', 'try', 'to', 'and', 'convince', 'the', 'father', 'that', \"they're\", 'a', 'good', 'fit', 'for', 'his', 'daughters.']  \n",
       "9998                                                                                                                                                                                                                  ['An', 'intimate', 'relationship', 'between', 'a', 'human', 'and', 'an', 'android', 'tests', 'the', 'boundaries', 'of', 'human', 'nature.']  \n",
       "9999                                                      ['With', 'the', \"world's\", 'end', 'imminent,', 'a', 'dying', 'mother', 'sends', 'her', 'young', 'son', 'on', 'a', 'journey', 'to', 'the', 'place', 'which', 'grants', 'wishes.', 'The', \"film's\", 'inspired', 'by', 'the', 'works', 'of', '13th', 'century', 'Sufi', 'mystic', 'and', 'poet,', 'Rumi.']  \n",
       "\n",
       "[10000 rows x 12 columns]"
      ]
     },
     "execution_count": 144,
     "metadata": {},
     "output_type": "execute_result"
    }
   ],
   "source": [
    "from sklearn.linear_model import LinearRegression\n",
    "df = pd.read_csv('cinemagix-movies.csv')\n",
    "\n",
    "# Dividir el DataFrame en dos partes: una con valores nulos y otra sin valores nulos\n",
    "df_notnull = df.dropna()\n",
    "df_isnull = df[df['MetaScore'].isnull()]\n",
    "\n",
    "# Crear un modelo de regresión lineal para MetaScore segun matriz de correlación (0.72 con MovieRating)\n",
    "model = LinearRegression()\n",
    "X = df_notnull[['MovieRating']]\n",
    "y = df_notnull['MetaScore']\n",
    "model.fit(X, y)\n",
    "\n",
    "# Predecir los valores nulos utilizando el modelo de regresión\n",
    "X_pred = df_isnull[['MovieRating']]\n",
    "y_pred = model.predict(X_pred)\n",
    "\n",
    "# Actualizar el DataFrame original con los valores predichos\n",
    "df.loc[df['MetaScore'].isnull(), 'MetaScore'] = y_pred\n",
    "\n",
    "# Imprimir el DataFrame actualizado\n",
    "df"
   ]
  },
  {
   "cell_type": "code",
   "execution_count": 145,
   "metadata": {},
   "outputs": [
    {
     "data": {
      "text/html": [
       "<div>\n",
       "<style scoped>\n",
       "    .dataframe tbody tr th:only-of-type {\n",
       "        vertical-align: middle;\n",
       "    }\n",
       "\n",
       "    .dataframe tbody tr th {\n",
       "        vertical-align: top;\n",
       "    }\n",
       "\n",
       "    .dataframe thead th {\n",
       "        text-align: right;\n",
       "    }\n",
       "</style>\n",
       "<table border=\"1\" class=\"dataframe\">\n",
       "  <thead>\n",
       "    <tr style=\"text-align: right;\">\n",
       "      <th></th>\n",
       "      <th>MovieName</th>\n",
       "      <th>YearOfRelease</th>\n",
       "      <th>RunTime</th>\n",
       "      <th>MovieRating</th>\n",
       "      <th>Votes</th>\n",
       "      <th>MetaScore</th>\n",
       "      <th>Gross</th>\n",
       "      <th>Genre</th>\n",
       "      <th>Certification</th>\n",
       "      <th>Director</th>\n",
       "      <th>Stars</th>\n",
       "      <th>Description</th>\n",
       "    </tr>\n",
       "  </thead>\n",
       "  <tbody>\n",
       "    <tr>\n",
       "      <th>0</th>\n",
       "      <td>The Shawshank Redemption</td>\n",
       "      <td>1994</td>\n",
       "      <td>142</td>\n",
       "      <td>9.3</td>\n",
       "      <td>2804443</td>\n",
       "      <td>82.000000</td>\n",
       "      <td>2.834000e+07</td>\n",
       "      <td>['Drama']</td>\n",
       "      <td>R</td>\n",
       "      <td>['Frank Darabont']</td>\n",
       "      <td>['Tim Robbins', 'Morgan Freeman', 'Bob Gunton', 'William Sadler']</td>\n",
       "      <td>['Over', 'the', 'course', 'of', 'several', 'years,', 'two', 'convicts', 'form', 'a', 'friendship,', 'seeking', 'consolation', 'and,', 'eventually,', 'redemption', 'through', 'basic', 'compassion.']</td>\n",
       "    </tr>\n",
       "    <tr>\n",
       "      <th>1</th>\n",
       "      <td>The Godfather</td>\n",
       "      <td>1972</td>\n",
       "      <td>175</td>\n",
       "      <td>9.2</td>\n",
       "      <td>1954174</td>\n",
       "      <td>100.000000</td>\n",
       "      <td>1.349700e+08</td>\n",
       "      <td>['Crime', ' Drama']</td>\n",
       "      <td>R</td>\n",
       "      <td>['Francis Ford Coppola']</td>\n",
       "      <td>['Marlon Brando', 'Al Pacino', 'James Caan', 'Diane Keaton']</td>\n",
       "      <td>['Don', 'Vito', 'Corleone,', 'head', 'of', 'a', 'mafia', 'family,', 'decides', 'to', 'hand', 'over', 'his', 'empire', 'to', 'his', 'youngest', 'son', 'Michael.', 'However,', 'his', 'decision', 'unintentionally', 'puts', 'the', 'lives', 'of', 'his', 'loved', 'ones', 'in', 'grave', 'danger.']</td>\n",
       "    </tr>\n",
       "    <tr>\n",
       "      <th>2</th>\n",
       "      <td>Ramayana: The Legend of Prince Rama</td>\n",
       "      <td>1993</td>\n",
       "      <td>135</td>\n",
       "      <td>9.2</td>\n",
       "      <td>12995</td>\n",
       "      <td>98.513391</td>\n",
       "      <td>1.827177e+07</td>\n",
       "      <td>['Animation', ' Action', ' Adventure']</td>\n",
       "      <td>PG</td>\n",
       "      <td>['Ram Mohan', 'Yago Sako', 'Koichi Saski']</td>\n",
       "      <td>['Arun Govil', 'Nikhil Kapoor', 'Edie Mirman', 'Rael Padamsee']</td>\n",
       "      <td>['An', 'anime', 'adaptation', 'of', 'the', 'Hindu', 'epic', 'the', 'Ramayana,', 'where', 'Lord', 'Ram', 'combats', 'the', 'wicked', 'king', 'Ravana.']</td>\n",
       "    </tr>\n",
       "    <tr>\n",
       "      <th>3</th>\n",
       "      <td>The Chaos Class</td>\n",
       "      <td>1975</td>\n",
       "      <td>87</td>\n",
       "      <td>9.2</td>\n",
       "      <td>42231</td>\n",
       "      <td>98.513391</td>\n",
       "      <td>2.442502e+07</td>\n",
       "      <td>['Comedy', ' Drama']</td>\n",
       "      <td>NaN</td>\n",
       "      <td>['Ertem Egilmez']</td>\n",
       "      <td>['Kemal Sunal', 'Munir Ozkul', 'Halit Akcatepe', 'Tarik Akan']</td>\n",
       "      <td>['Lazy,', 'uneducated', 'students', 'share', 'a', 'very', 'close', 'bond.', 'They', 'live', 'together', 'in', 'the', 'dormitory,', 'where', 'they', 'plan', 'their', 'latest', 'pranks.', 'When', 'a', 'new', 'headmaster', 'arrives,', 'the', 'students', 'naturally', 'try', 'to', 'overthrow', 'him.', 'A', 'comic', 'war', 'of', 'nitwits', 'follows.']</td>\n",
       "    </tr>\n",
       "    <tr>\n",
       "      <th>4</th>\n",
       "      <td>The Dark Knight</td>\n",
       "      <td>2008</td>\n",
       "      <td>152</td>\n",
       "      <td>9.0</td>\n",
       "      <td>2786129</td>\n",
       "      <td>84.000000</td>\n",
       "      <td>5.348600e+08</td>\n",
       "      <td>['Action', ' Crime', ' Drama']</td>\n",
       "      <td>PG-13</td>\n",
       "      <td>['Christopher Nolan']</td>\n",
       "      <td>['Christian Bale', 'Heath Ledger', 'Aaron Eckhart', 'Michael Caine']</td>\n",
       "      <td>['When', 'the', 'menace', 'known', 'as', 'the', 'Joker', 'wreaks', 'havoc', 'and', 'chaos', 'on', 'the', 'people', 'of', 'Gotham,', 'Batman', 'must', 'accept', 'one', 'of', 'the', 'greatest', 'psychological', 'and', 'physical', 'tests', 'of', 'his', 'ability', 'to', 'fight', 'injustice.']</td>\n",
       "    </tr>\n",
       "    <tr>\n",
       "      <th>...</th>\n",
       "      <td>...</td>\n",
       "      <td>...</td>\n",
       "      <td>...</td>\n",
       "      <td>...</td>\n",
       "      <td>...</td>\n",
       "      <td>...</td>\n",
       "      <td>...</td>\n",
       "      <td>...</td>\n",
       "      <td>...</td>\n",
       "      <td>...</td>\n",
       "      <td>...</td>\n",
       "      <td>...</td>\n",
       "    </tr>\n",
       "    <tr>\n",
       "      <th>9995</th>\n",
       "      <td>Golmaal Again</td>\n",
       "      <td>2017</td>\n",
       "      <td>140</td>\n",
       "      <td>4.9</td>\n",
       "      <td>10183</td>\n",
       "      <td>30.410691</td>\n",
       "      <td>1.010000e+06</td>\n",
       "      <td>['Action', ' Comedy', ' Fantasy']</td>\n",
       "      <td>Not Rated</td>\n",
       "      <td>['Rohit Shetty']</td>\n",
       "      <td>['Ajay Devgn', 'Arshad Warsi', 'Tabu', 'Shreyas Talpade']</td>\n",
       "      <td>['The', 'gang', 'encounters', 'with', 'some', 'spiritual', 'bodies', 'and', 'finds', 'out', 'the', 'truth', 'about', 'the', 'Jamnadas', 'Orphanage', 'where', 'they', 'were', 'brought', 'up.']</td>\n",
       "    </tr>\n",
       "    <tr>\n",
       "      <th>9996</th>\n",
       "      <td>Not to Forget</td>\n",
       "      <td>2021</td>\n",
       "      <td>84</td>\n",
       "      <td>4.9</td>\n",
       "      <td>11191</td>\n",
       "      <td>30.410691</td>\n",
       "      <td>1.789209e+07</td>\n",
       "      <td>['Drama']</td>\n",
       "      <td>NaN</td>\n",
       "      <td>['Valerio Zanoli']</td>\n",
       "      <td>['Karen Grassle', 'Louis Gossett Jr.', \"Tatum O'Neal\", 'Cloris Leachman']</td>\n",
       "      <td>['After', 'a', 'lifetime', 'of', 'scams,', 'a', 'self-centered', 'millennial', 'is', 'sentenced', 'to', 'take', 'care', 'of', 'his', 'grandmother,', 'who', 'suffers', 'from', \"Alzheimer's.\"]</td>\n",
       "    </tr>\n",
       "    <tr>\n",
       "      <th>9997</th>\n",
       "      <td>Housefull 3</td>\n",
       "      <td>2016</td>\n",
       "      <td>140</td>\n",
       "      <td>4.9</td>\n",
       "      <td>10308</td>\n",
       "      <td>30.410691</td>\n",
       "      <td>1.160000e+06</td>\n",
       "      <td>['Action', ' Comedy', ' Romance']</td>\n",
       "      <td>Not Rated</td>\n",
       "      <td>['Sajid', 'Farhad Samji']</td>\n",
       "      <td>['Akshay Kumar', 'Abhishek Bachchan', 'Riteish Deshmukh', 'Jackie Shroff']</td>\n",
       "      <td>['A', 'father', \"doesn't\", 'want', 'his', 'three', 'daughters', 'to', 'get', 'married.', 'Now,', \"it's\", 'up', 'to', 'three', 'men', 'to', 'try', 'to', 'and', 'convince', 'the', 'father', 'that', \"they're\", 'a', 'good', 'fit', 'for', 'his', 'daughters.']</td>\n",
       "    </tr>\n",
       "    <tr>\n",
       "      <th>9998</th>\n",
       "      <td>A.I. Rising</td>\n",
       "      <td>2018</td>\n",
       "      <td>85</td>\n",
       "      <td>4.9</td>\n",
       "      <td>11187</td>\n",
       "      <td>30.410691</td>\n",
       "      <td>1.789124e+07</td>\n",
       "      <td>['Drama', ' Romance', ' Sci-Fi']</td>\n",
       "      <td>R</td>\n",
       "      <td>['Lazar Bodroza']</td>\n",
       "      <td>['Sebastian Cavazza', 'Stoya', 'Marusa Majer', 'Kirsty Besterman']</td>\n",
       "      <td>['An', 'intimate', 'relationship', 'between', 'a', 'human', 'and', 'an', 'android', 'tests', 'the', 'boundaries', 'of', 'human', 'nature.']</td>\n",
       "    </tr>\n",
       "    <tr>\n",
       "      <th>9999</th>\n",
       "      <td>The Last Boy</td>\n",
       "      <td>2019</td>\n",
       "      <td>87</td>\n",
       "      <td>4.9</td>\n",
       "      <td>10324</td>\n",
       "      <td>30.410691</td>\n",
       "      <td>1.770961e+07</td>\n",
       "      <td>['Fantasy', ' Mystery', ' Sci-Fi']</td>\n",
       "      <td>NaN</td>\n",
       "      <td>['Perry Bhandal']</td>\n",
       "      <td>['Luke Goss', 'Flynn Allen', 'Peter Guinness', 'Matilda Freeman']</td>\n",
       "      <td>['With', 'the', \"world's\", 'end', 'imminent,', 'a', 'dying', 'mother', 'sends', 'her', 'young', 'son', 'on', 'a', 'journey', 'to', 'the', 'place', 'which', 'grants', 'wishes.', 'The', \"film's\", 'inspired', 'by', 'the', 'works', 'of', '13th', 'century', 'Sufi', 'mystic', 'and', 'poet,', 'Rumi.']</td>\n",
       "    </tr>\n",
       "  </tbody>\n",
       "</table>\n",
       "<p>10000 rows × 12 columns</p>\n",
       "</div>"
      ],
      "text/plain": [
       "                                MovieName  YearOfRelease  RunTime  \\\n",
       "0                The Shawshank Redemption           1994      142   \n",
       "1                           The Godfather           1972      175   \n",
       "2     Ramayana: The Legend of Prince Rama           1993      135   \n",
       "3                         The Chaos Class           1975       87   \n",
       "4                         The Dark Knight           2008      152   \n",
       "...                                   ...            ...      ...   \n",
       "9995                        Golmaal Again           2017      140   \n",
       "9996                        Not to Forget           2021       84   \n",
       "9997                          Housefull 3           2016      140   \n",
       "9998                          A.I. Rising           2018       85   \n",
       "9999                         The Last Boy           2019       87   \n",
       "\n",
       "      MovieRating    Votes   MetaScore         Gross  \\\n",
       "0             9.3  2804443   82.000000  2.834000e+07   \n",
       "1             9.2  1954174  100.000000  1.349700e+08   \n",
       "2             9.2    12995   98.513391  1.827177e+07   \n",
       "3             9.2    42231   98.513391  2.442502e+07   \n",
       "4             9.0  2786129   84.000000  5.348600e+08   \n",
       "...           ...      ...         ...           ...   \n",
       "9995          4.9    10183   30.410691  1.010000e+06   \n",
       "9996          4.9    11191   30.410691  1.789209e+07   \n",
       "9997          4.9    10308   30.410691  1.160000e+06   \n",
       "9998          4.9    11187   30.410691  1.789124e+07   \n",
       "9999          4.9    10324   30.410691  1.770961e+07   \n",
       "\n",
       "                                       Genre Certification  \\\n",
       "0                                  ['Drama']             R   \n",
       "1                        ['Crime', ' Drama']             R   \n",
       "2     ['Animation', ' Action', ' Adventure']            PG   \n",
       "3                       ['Comedy', ' Drama']           NaN   \n",
       "4             ['Action', ' Crime', ' Drama']         PG-13   \n",
       "...                                      ...           ...   \n",
       "9995       ['Action', ' Comedy', ' Fantasy']     Not Rated   \n",
       "9996                               ['Drama']           NaN   \n",
       "9997       ['Action', ' Comedy', ' Romance']     Not Rated   \n",
       "9998        ['Drama', ' Romance', ' Sci-Fi']             R   \n",
       "9999      ['Fantasy', ' Mystery', ' Sci-Fi']           NaN   \n",
       "\n",
       "                                        Director  \\\n",
       "0                             ['Frank Darabont']   \n",
       "1                       ['Francis Ford Coppola']   \n",
       "2     ['Ram Mohan', 'Yago Sako', 'Koichi Saski']   \n",
       "3                              ['Ertem Egilmez']   \n",
       "4                          ['Christopher Nolan']   \n",
       "...                                          ...   \n",
       "9995                            ['Rohit Shetty']   \n",
       "9996                          ['Valerio Zanoli']   \n",
       "9997                   ['Sajid', 'Farhad Samji']   \n",
       "9998                           ['Lazar Bodroza']   \n",
       "9999                           ['Perry Bhandal']   \n",
       "\n",
       "                                                                           Stars  \\\n",
       "0              ['Tim Robbins', 'Morgan Freeman', 'Bob Gunton', 'William Sadler']   \n",
       "1                   ['Marlon Brando', 'Al Pacino', 'James Caan', 'Diane Keaton']   \n",
       "2                ['Arun Govil', 'Nikhil Kapoor', 'Edie Mirman', 'Rael Padamsee']   \n",
       "3                 ['Kemal Sunal', 'Munir Ozkul', 'Halit Akcatepe', 'Tarik Akan']   \n",
       "4           ['Christian Bale', 'Heath Ledger', 'Aaron Eckhart', 'Michael Caine']   \n",
       "...                                                                          ...   \n",
       "9995                   ['Ajay Devgn', 'Arshad Warsi', 'Tabu', 'Shreyas Talpade']   \n",
       "9996   ['Karen Grassle', 'Louis Gossett Jr.', \"Tatum O'Neal\", 'Cloris Leachman']   \n",
       "9997  ['Akshay Kumar', 'Abhishek Bachchan', 'Riteish Deshmukh', 'Jackie Shroff']   \n",
       "9998          ['Sebastian Cavazza', 'Stoya', 'Marusa Majer', 'Kirsty Besterman']   \n",
       "9999           ['Luke Goss', 'Flynn Allen', 'Peter Guinness', 'Matilda Freeman']   \n",
       "\n",
       "                                                                                                                                                                                                                                                                                                                                                      Description  \n",
       "0                                                                                                                                                           ['Over', 'the', 'course', 'of', 'several', 'years,', 'two', 'convicts', 'form', 'a', 'friendship,', 'seeking', 'consolation', 'and,', 'eventually,', 'redemption', 'through', 'basic', 'compassion.']  \n",
       "1                                                             ['Don', 'Vito', 'Corleone,', 'head', 'of', 'a', 'mafia', 'family,', 'decides', 'to', 'hand', 'over', 'his', 'empire', 'to', 'his', 'youngest', 'son', 'Michael.', 'However,', 'his', 'decision', 'unintentionally', 'puts', 'the', 'lives', 'of', 'his', 'loved', 'ones', 'in', 'grave', 'danger.']  \n",
       "2                                                                                                                                                                                                          ['An', 'anime', 'adaptation', 'of', 'the', 'Hindu', 'epic', 'the', 'Ramayana,', 'where', 'Lord', 'Ram', 'combats', 'the', 'wicked', 'king', 'Ravana.']  \n",
       "3     ['Lazy,', 'uneducated', 'students', 'share', 'a', 'very', 'close', 'bond.', 'They', 'live', 'together', 'in', 'the', 'dormitory,', 'where', 'they', 'plan', 'their', 'latest', 'pranks.', 'When', 'a', 'new', 'headmaster', 'arrives,', 'the', 'students', 'naturally', 'try', 'to', 'overthrow', 'him.', 'A', 'comic', 'war', 'of', 'nitwits', 'follows.']  \n",
       "4                                                               ['When', 'the', 'menace', 'known', 'as', 'the', 'Joker', 'wreaks', 'havoc', 'and', 'chaos', 'on', 'the', 'people', 'of', 'Gotham,', 'Batman', 'must', 'accept', 'one', 'of', 'the', 'greatest', 'psychological', 'and', 'physical', 'tests', 'of', 'his', 'ability', 'to', 'fight', 'injustice.']  \n",
       "...                                                                                                                                                                                                                                                                                                                                                           ...  \n",
       "9995                                                                                                                                                              ['The', 'gang', 'encounters', 'with', 'some', 'spiritual', 'bodies', 'and', 'finds', 'out', 'the', 'truth', 'about', 'the', 'Jamnadas', 'Orphanage', 'where', 'they', 'were', 'brought', 'up.']  \n",
       "9996                                                                                                                                                               ['After', 'a', 'lifetime', 'of', 'scams,', 'a', 'self-centered', 'millennial', 'is', 'sentenced', 'to', 'take', 'care', 'of', 'his', 'grandmother,', 'who', 'suffers', 'from', \"Alzheimer's.\"]  \n",
       "9997                                                                                               ['A', 'father', \"doesn't\", 'want', 'his', 'three', 'daughters', 'to', 'get', 'married.', 'Now,', \"it's\", 'up', 'to', 'three', 'men', 'to', 'try', 'to', 'and', 'convince', 'the', 'father', 'that', \"they're\", 'a', 'good', 'fit', 'for', 'his', 'daughters.']  \n",
       "9998                                                                                                                                                                                                                  ['An', 'intimate', 'relationship', 'between', 'a', 'human', 'and', 'an', 'android', 'tests', 'the', 'boundaries', 'of', 'human', 'nature.']  \n",
       "9999                                                      ['With', 'the', \"world's\", 'end', 'imminent,', 'a', 'dying', 'mother', 'sends', 'her', 'young', 'son', 'on', 'a', 'journey', 'to', 'the', 'place', 'which', 'grants', 'wishes.', 'The', \"film's\", 'inspired', 'by', 'the', 'works', 'of', '13th', 'century', 'Sufi', 'mystic', 'and', 'poet,', 'Rumi.']  \n",
       "\n",
       "[10000 rows x 12 columns]"
      ]
     },
     "execution_count": 145,
     "metadata": {},
     "output_type": "execute_result"
    }
   ],
   "source": [
    "from sklearn.linear_model import LinearRegression\n",
    "\n",
    "\n",
    "# Dividir el DataFrame en dos partes: una con valores nulos y otra sin valores nulos\n",
    "df_notnull2 = df.dropna()\n",
    "df_isnull2 = df[df['Gross'].isnull()]\n",
    "\n",
    "# Crear un modelo de regresión lineal \n",
    "model2 = LinearRegression()\n",
    "X = df_notnull2[['Votes']]\n",
    "y = df_notnull2['Gross']\n",
    "model2.fit(X, y)\n",
    "\n",
    "# Predecir los valores nulos utilizando el modelo de regresión\n",
    "X_pred = df_isnull2[['Votes']]\n",
    "y_pred = model2.predict(X_pred)\n",
    "\n",
    "# Actualizar el DataFrame original con los valores predichos\n",
    "df.loc[df['Gross'].isnull(), 'Gross'] = y_pred\n",
    "\n",
    "# Imprimir el DataFrame actualizado\n",
    "df"
   ]
  },
  {
   "cell_type": "code",
   "execution_count": 146,
   "metadata": {},
   "outputs": [
    {
     "data": {
      "text/html": [
       "<div>\n",
       "<style scoped>\n",
       "    .dataframe tbody tr th:only-of-type {\n",
       "        vertical-align: middle;\n",
       "    }\n",
       "\n",
       "    .dataframe tbody tr th {\n",
       "        vertical-align: top;\n",
       "    }\n",
       "\n",
       "    .dataframe thead th {\n",
       "        text-align: right;\n",
       "    }\n",
       "</style>\n",
       "<table border=\"1\" class=\"dataframe\">\n",
       "  <thead>\n",
       "    <tr style=\"text-align: right;\">\n",
       "      <th></th>\n",
       "      <th>MovieName</th>\n",
       "      <th>YearOfRelease</th>\n",
       "      <th>RunTime</th>\n",
       "      <th>MovieRating</th>\n",
       "      <th>Votes</th>\n",
       "      <th>MetaScore</th>\n",
       "      <th>Gross</th>\n",
       "      <th>Genre</th>\n",
       "      <th>Certification</th>\n",
       "      <th>Director</th>\n",
       "      <th>Stars</th>\n",
       "      <th>Description</th>\n",
       "    </tr>\n",
       "  </thead>\n",
       "  <tbody>\n",
       "    <tr>\n",
       "      <th>0</th>\n",
       "      <td>The Shawshank Redemption</td>\n",
       "      <td>1994</td>\n",
       "      <td>142</td>\n",
       "      <td>9.3</td>\n",
       "      <td>2804443</td>\n",
       "      <td>82.000000</td>\n",
       "      <td>2.834000e+07</td>\n",
       "      <td>['Drama']</td>\n",
       "      <td>R</td>\n",
       "      <td>['Frank Darabont']</td>\n",
       "      <td>['Tim Robbins', 'Morgan Freeman', 'Bob Gunton', 'William Sadler']</td>\n",
       "      <td>['Over', 'the', 'course', 'of', 'several', 'years,', 'two', 'convicts', 'form', 'a', 'friendship,', 'seeking', 'consolation', 'and,', 'eventually,', 'redemption', 'through', 'basic', 'compassion.']</td>\n",
       "    </tr>\n",
       "    <tr>\n",
       "      <th>1</th>\n",
       "      <td>The Godfather</td>\n",
       "      <td>1972</td>\n",
       "      <td>175</td>\n",
       "      <td>9.2</td>\n",
       "      <td>1954174</td>\n",
       "      <td>100.000000</td>\n",
       "      <td>1.349700e+08</td>\n",
       "      <td>['Crime', ' Drama']</td>\n",
       "      <td>R</td>\n",
       "      <td>['Francis Ford Coppola']</td>\n",
       "      <td>['Marlon Brando', 'Al Pacino', 'James Caan', 'Diane Keaton']</td>\n",
       "      <td>['Don', 'Vito', 'Corleone,', 'head', 'of', 'a', 'mafia', 'family,', 'decides', 'to', 'hand', 'over', 'his', 'empire', 'to', 'his', 'youngest', 'son', 'Michael.', 'However,', 'his', 'decision', 'unintentionally', 'puts', 'the', 'lives', 'of', 'his', 'loved', 'ones', 'in', 'grave', 'danger.']</td>\n",
       "    </tr>\n",
       "    <tr>\n",
       "      <th>2</th>\n",
       "      <td>Ramayana: The Legend of Prince Rama</td>\n",
       "      <td>1993</td>\n",
       "      <td>135</td>\n",
       "      <td>9.2</td>\n",
       "      <td>12995</td>\n",
       "      <td>98.513391</td>\n",
       "      <td>1.827177e+07</td>\n",
       "      <td>['Animation', ' Action', ' Adventure']</td>\n",
       "      <td>PG</td>\n",
       "      <td>['Ram Mohan', 'Yago Sako', 'Koichi Saski']</td>\n",
       "      <td>['Arun Govil', 'Nikhil Kapoor', 'Edie Mirman', 'Rael Padamsee']</td>\n",
       "      <td>['An', 'anime', 'adaptation', 'of', 'the', 'Hindu', 'epic', 'the', 'Ramayana,', 'where', 'Lord', 'Ram', 'combats', 'the', 'wicked', 'king', 'Ravana.']</td>\n",
       "    </tr>\n",
       "    <tr>\n",
       "      <th>3</th>\n",
       "      <td>The Chaos Class</td>\n",
       "      <td>1975</td>\n",
       "      <td>87</td>\n",
       "      <td>9.2</td>\n",
       "      <td>42231</td>\n",
       "      <td>98.513391</td>\n",
       "      <td>2.442502e+07</td>\n",
       "      <td>['Comedy', ' Drama']</td>\n",
       "      <td>R</td>\n",
       "      <td>['Ertem Egilmez']</td>\n",
       "      <td>['Kemal Sunal', 'Munir Ozkul', 'Halit Akcatepe', 'Tarik Akan']</td>\n",
       "      <td>['Lazy,', 'uneducated', 'students', 'share', 'a', 'very', 'close', 'bond.', 'They', 'live', 'together', 'in', 'the', 'dormitory,', 'where', 'they', 'plan', 'their', 'latest', 'pranks.', 'When', 'a', 'new', 'headmaster', 'arrives,', 'the', 'students', 'naturally', 'try', 'to', 'overthrow', 'him.', 'A', 'comic', 'war', 'of', 'nitwits', 'follows.']</td>\n",
       "    </tr>\n",
       "    <tr>\n",
       "      <th>4</th>\n",
       "      <td>The Dark Knight</td>\n",
       "      <td>2008</td>\n",
       "      <td>152</td>\n",
       "      <td>9.0</td>\n",
       "      <td>2786129</td>\n",
       "      <td>84.000000</td>\n",
       "      <td>5.348600e+08</td>\n",
       "      <td>['Action', ' Crime', ' Drama']</td>\n",
       "      <td>PG-13</td>\n",
       "      <td>['Christopher Nolan']</td>\n",
       "      <td>['Christian Bale', 'Heath Ledger', 'Aaron Eckhart', 'Michael Caine']</td>\n",
       "      <td>['When', 'the', 'menace', 'known', 'as', 'the', 'Joker', 'wreaks', 'havoc', 'and', 'chaos', 'on', 'the', 'people', 'of', 'Gotham,', 'Batman', 'must', 'accept', 'one', 'of', 'the', 'greatest', 'psychological', 'and', 'physical', 'tests', 'of', 'his', 'ability', 'to', 'fight', 'injustice.']</td>\n",
       "    </tr>\n",
       "    <tr>\n",
       "      <th>...</th>\n",
       "      <td>...</td>\n",
       "      <td>...</td>\n",
       "      <td>...</td>\n",
       "      <td>...</td>\n",
       "      <td>...</td>\n",
       "      <td>...</td>\n",
       "      <td>...</td>\n",
       "      <td>...</td>\n",
       "      <td>...</td>\n",
       "      <td>...</td>\n",
       "      <td>...</td>\n",
       "      <td>...</td>\n",
       "    </tr>\n",
       "    <tr>\n",
       "      <th>9995</th>\n",
       "      <td>Golmaal Again</td>\n",
       "      <td>2017</td>\n",
       "      <td>140</td>\n",
       "      <td>4.9</td>\n",
       "      <td>10183</td>\n",
       "      <td>30.410691</td>\n",
       "      <td>1.010000e+06</td>\n",
       "      <td>['Action', ' Comedy', ' Fantasy']</td>\n",
       "      <td>Not Rated</td>\n",
       "      <td>['Rohit Shetty']</td>\n",
       "      <td>['Ajay Devgn', 'Arshad Warsi', 'Tabu', 'Shreyas Talpade']</td>\n",
       "      <td>['The', 'gang', 'encounters', 'with', 'some', 'spiritual', 'bodies', 'and', 'finds', 'out', 'the', 'truth', 'about', 'the', 'Jamnadas', 'Orphanage', 'where', 'they', 'were', 'brought', 'up.']</td>\n",
       "    </tr>\n",
       "    <tr>\n",
       "      <th>9996</th>\n",
       "      <td>Not to Forget</td>\n",
       "      <td>2021</td>\n",
       "      <td>84</td>\n",
       "      <td>4.9</td>\n",
       "      <td>11191</td>\n",
       "      <td>30.410691</td>\n",
       "      <td>1.789209e+07</td>\n",
       "      <td>['Drama']</td>\n",
       "      <td>R</td>\n",
       "      <td>['Valerio Zanoli']</td>\n",
       "      <td>['Karen Grassle', 'Louis Gossett Jr.', \"Tatum O'Neal\", 'Cloris Leachman']</td>\n",
       "      <td>['After', 'a', 'lifetime', 'of', 'scams,', 'a', 'self-centered', 'millennial', 'is', 'sentenced', 'to', 'take', 'care', 'of', 'his', 'grandmother,', 'who', 'suffers', 'from', \"Alzheimer's.\"]</td>\n",
       "    </tr>\n",
       "    <tr>\n",
       "      <th>9997</th>\n",
       "      <td>Housefull 3</td>\n",
       "      <td>2016</td>\n",
       "      <td>140</td>\n",
       "      <td>4.9</td>\n",
       "      <td>10308</td>\n",
       "      <td>30.410691</td>\n",
       "      <td>1.160000e+06</td>\n",
       "      <td>['Action', ' Comedy', ' Romance']</td>\n",
       "      <td>Not Rated</td>\n",
       "      <td>['Sajid', 'Farhad Samji']</td>\n",
       "      <td>['Akshay Kumar', 'Abhishek Bachchan', 'Riteish Deshmukh', 'Jackie Shroff']</td>\n",
       "      <td>['A', 'father', \"doesn't\", 'want', 'his', 'three', 'daughters', 'to', 'get', 'married.', 'Now,', \"it's\", 'up', 'to', 'three', 'men', 'to', 'try', 'to', 'and', 'convince', 'the', 'father', 'that', \"they're\", 'a', 'good', 'fit', 'for', 'his', 'daughters.']</td>\n",
       "    </tr>\n",
       "    <tr>\n",
       "      <th>9998</th>\n",
       "      <td>A.I. Rising</td>\n",
       "      <td>2018</td>\n",
       "      <td>85</td>\n",
       "      <td>4.9</td>\n",
       "      <td>11187</td>\n",
       "      <td>30.410691</td>\n",
       "      <td>1.789124e+07</td>\n",
       "      <td>['Drama', ' Romance', ' Sci-Fi']</td>\n",
       "      <td>R</td>\n",
       "      <td>['Lazar Bodroza']</td>\n",
       "      <td>['Sebastian Cavazza', 'Stoya', 'Marusa Majer', 'Kirsty Besterman']</td>\n",
       "      <td>['An', 'intimate', 'relationship', 'between', 'a', 'human', 'and', 'an', 'android', 'tests', 'the', 'boundaries', 'of', 'human', 'nature.']</td>\n",
       "    </tr>\n",
       "    <tr>\n",
       "      <th>9999</th>\n",
       "      <td>The Last Boy</td>\n",
       "      <td>2019</td>\n",
       "      <td>87</td>\n",
       "      <td>4.9</td>\n",
       "      <td>10324</td>\n",
       "      <td>30.410691</td>\n",
       "      <td>1.770961e+07</td>\n",
       "      <td>['Fantasy', ' Mystery', ' Sci-Fi']</td>\n",
       "      <td>R</td>\n",
       "      <td>['Perry Bhandal']</td>\n",
       "      <td>['Luke Goss', 'Flynn Allen', 'Peter Guinness', 'Matilda Freeman']</td>\n",
       "      <td>['With', 'the', \"world's\", 'end', 'imminent,', 'a', 'dying', 'mother', 'sends', 'her', 'young', 'son', 'on', 'a', 'journey', 'to', 'the', 'place', 'which', 'grants', 'wishes.', 'The', \"film's\", 'inspired', 'by', 'the', 'works', 'of', '13th', 'century', 'Sufi', 'mystic', 'and', 'poet,', 'Rumi.']</td>\n",
       "    </tr>\n",
       "  </tbody>\n",
       "</table>\n",
       "<p>10000 rows × 12 columns</p>\n",
       "</div>"
      ],
      "text/plain": [
       "                                MovieName  YearOfRelease  RunTime  \\\n",
       "0                The Shawshank Redemption           1994      142   \n",
       "1                           The Godfather           1972      175   \n",
       "2     Ramayana: The Legend of Prince Rama           1993      135   \n",
       "3                         The Chaos Class           1975       87   \n",
       "4                         The Dark Knight           2008      152   \n",
       "...                                   ...            ...      ...   \n",
       "9995                        Golmaal Again           2017      140   \n",
       "9996                        Not to Forget           2021       84   \n",
       "9997                          Housefull 3           2016      140   \n",
       "9998                          A.I. Rising           2018       85   \n",
       "9999                         The Last Boy           2019       87   \n",
       "\n",
       "      MovieRating    Votes   MetaScore         Gross  \\\n",
       "0             9.3  2804443   82.000000  2.834000e+07   \n",
       "1             9.2  1954174  100.000000  1.349700e+08   \n",
       "2             9.2    12995   98.513391  1.827177e+07   \n",
       "3             9.2    42231   98.513391  2.442502e+07   \n",
       "4             9.0  2786129   84.000000  5.348600e+08   \n",
       "...           ...      ...         ...           ...   \n",
       "9995          4.9    10183   30.410691  1.010000e+06   \n",
       "9996          4.9    11191   30.410691  1.789209e+07   \n",
       "9997          4.9    10308   30.410691  1.160000e+06   \n",
       "9998          4.9    11187   30.410691  1.789124e+07   \n",
       "9999          4.9    10324   30.410691  1.770961e+07   \n",
       "\n",
       "                                       Genre Certification  \\\n",
       "0                                  ['Drama']             R   \n",
       "1                        ['Crime', ' Drama']             R   \n",
       "2     ['Animation', ' Action', ' Adventure']            PG   \n",
       "3                       ['Comedy', ' Drama']             R   \n",
       "4             ['Action', ' Crime', ' Drama']         PG-13   \n",
       "...                                      ...           ...   \n",
       "9995       ['Action', ' Comedy', ' Fantasy']     Not Rated   \n",
       "9996                               ['Drama']             R   \n",
       "9997       ['Action', ' Comedy', ' Romance']     Not Rated   \n",
       "9998        ['Drama', ' Romance', ' Sci-Fi']             R   \n",
       "9999      ['Fantasy', ' Mystery', ' Sci-Fi']             R   \n",
       "\n",
       "                                        Director  \\\n",
       "0                             ['Frank Darabont']   \n",
       "1                       ['Francis Ford Coppola']   \n",
       "2     ['Ram Mohan', 'Yago Sako', 'Koichi Saski']   \n",
       "3                              ['Ertem Egilmez']   \n",
       "4                          ['Christopher Nolan']   \n",
       "...                                          ...   \n",
       "9995                            ['Rohit Shetty']   \n",
       "9996                          ['Valerio Zanoli']   \n",
       "9997                   ['Sajid', 'Farhad Samji']   \n",
       "9998                           ['Lazar Bodroza']   \n",
       "9999                           ['Perry Bhandal']   \n",
       "\n",
       "                                                                           Stars  \\\n",
       "0              ['Tim Robbins', 'Morgan Freeman', 'Bob Gunton', 'William Sadler']   \n",
       "1                   ['Marlon Brando', 'Al Pacino', 'James Caan', 'Diane Keaton']   \n",
       "2                ['Arun Govil', 'Nikhil Kapoor', 'Edie Mirman', 'Rael Padamsee']   \n",
       "3                 ['Kemal Sunal', 'Munir Ozkul', 'Halit Akcatepe', 'Tarik Akan']   \n",
       "4           ['Christian Bale', 'Heath Ledger', 'Aaron Eckhart', 'Michael Caine']   \n",
       "...                                                                          ...   \n",
       "9995                   ['Ajay Devgn', 'Arshad Warsi', 'Tabu', 'Shreyas Talpade']   \n",
       "9996   ['Karen Grassle', 'Louis Gossett Jr.', \"Tatum O'Neal\", 'Cloris Leachman']   \n",
       "9997  ['Akshay Kumar', 'Abhishek Bachchan', 'Riteish Deshmukh', 'Jackie Shroff']   \n",
       "9998          ['Sebastian Cavazza', 'Stoya', 'Marusa Majer', 'Kirsty Besterman']   \n",
       "9999           ['Luke Goss', 'Flynn Allen', 'Peter Guinness', 'Matilda Freeman']   \n",
       "\n",
       "                                                                                                                                                                                                                                                                                                                                                      Description  \n",
       "0                                                                                                                                                           ['Over', 'the', 'course', 'of', 'several', 'years,', 'two', 'convicts', 'form', 'a', 'friendship,', 'seeking', 'consolation', 'and,', 'eventually,', 'redemption', 'through', 'basic', 'compassion.']  \n",
       "1                                                             ['Don', 'Vito', 'Corleone,', 'head', 'of', 'a', 'mafia', 'family,', 'decides', 'to', 'hand', 'over', 'his', 'empire', 'to', 'his', 'youngest', 'son', 'Michael.', 'However,', 'his', 'decision', 'unintentionally', 'puts', 'the', 'lives', 'of', 'his', 'loved', 'ones', 'in', 'grave', 'danger.']  \n",
       "2                                                                                                                                                                                                          ['An', 'anime', 'adaptation', 'of', 'the', 'Hindu', 'epic', 'the', 'Ramayana,', 'where', 'Lord', 'Ram', 'combats', 'the', 'wicked', 'king', 'Ravana.']  \n",
       "3     ['Lazy,', 'uneducated', 'students', 'share', 'a', 'very', 'close', 'bond.', 'They', 'live', 'together', 'in', 'the', 'dormitory,', 'where', 'they', 'plan', 'their', 'latest', 'pranks.', 'When', 'a', 'new', 'headmaster', 'arrives,', 'the', 'students', 'naturally', 'try', 'to', 'overthrow', 'him.', 'A', 'comic', 'war', 'of', 'nitwits', 'follows.']  \n",
       "4                                                               ['When', 'the', 'menace', 'known', 'as', 'the', 'Joker', 'wreaks', 'havoc', 'and', 'chaos', 'on', 'the', 'people', 'of', 'Gotham,', 'Batman', 'must', 'accept', 'one', 'of', 'the', 'greatest', 'psychological', 'and', 'physical', 'tests', 'of', 'his', 'ability', 'to', 'fight', 'injustice.']  \n",
       "...                                                                                                                                                                                                                                                                                                                                                           ...  \n",
       "9995                                                                                                                                                              ['The', 'gang', 'encounters', 'with', 'some', 'spiritual', 'bodies', 'and', 'finds', 'out', 'the', 'truth', 'about', 'the', 'Jamnadas', 'Orphanage', 'where', 'they', 'were', 'brought', 'up.']  \n",
       "9996                                                                                                                                                               ['After', 'a', 'lifetime', 'of', 'scams,', 'a', 'self-centered', 'millennial', 'is', 'sentenced', 'to', 'take', 'care', 'of', 'his', 'grandmother,', 'who', 'suffers', 'from', \"Alzheimer's.\"]  \n",
       "9997                                                                                               ['A', 'father', \"doesn't\", 'want', 'his', 'three', 'daughters', 'to', 'get', 'married.', 'Now,', \"it's\", 'up', 'to', 'three', 'men', 'to', 'try', 'to', 'and', 'convince', 'the', 'father', 'that', \"they're\", 'a', 'good', 'fit', 'for', 'his', 'daughters.']  \n",
       "9998                                                                                                                                                                                                                  ['An', 'intimate', 'relationship', 'between', 'a', 'human', 'and', 'an', 'android', 'tests', 'the', 'boundaries', 'of', 'human', 'nature.']  \n",
       "9999                                                      ['With', 'the', \"world's\", 'end', 'imminent,', 'a', 'dying', 'mother', 'sends', 'her', 'young', 'son', 'on', 'a', 'journey', 'to', 'the', 'place', 'which', 'grants', 'wishes.', 'The', \"film's\", 'inspired', 'by', 'the', 'works', 'of', '13th', 'century', 'Sufi', 'mystic', 'and', 'poet,', 'Rumi.']  \n",
       "\n",
       "[10000 rows x 12 columns]"
      ]
     },
     "execution_count": 146,
     "metadata": {},
     "output_type": "execute_result"
    }
   ],
   "source": [
    "import pandas as pd\n",
    "from sklearn.model_selection import train_test_split\n",
    "from sklearn.ensemble import RandomForestClassifier\n",
    "\n",
    "# Separa el conjunto de datos en dos partes: una para entrenar el modelo de clasificación y otra para imputar\n",
    "df_notnull3 = df.dropna()\n",
    "df_isnull3 = df[df['Certification'].isnull()]\n",
    "\n",
    "# Divide las características y la variable objetivo\n",
    "X_train = df_notnull3[['RunTime']]\n",
    "y_train = df_notnull3['Certification']\n",
    "\n",
    "# Entrena un modelo de clasificación (Random Forest, en este caso)\n",
    "model = RandomForestClassifier()\n",
    "model.fit(X_train, y_train)\n",
    "\n",
    "# Utiliza el modelo entrenado para predecir los valores categóricos en el conjunto de datos de imputación\n",
    "X_impute = df_isnull3[['RunTime']]\n",
    "predicted_values = model.predict(X_impute)\n",
    "\n",
    "# Reemplaza los valores nulos en el conjunto de datos original con las predicciones del modelo\n",
    "df.loc[df['Certification'].isnull(), 'Certification'] = predicted_values\n",
    "\n",
    "df"
   ]
  }
 ],
 "metadata": {
  "kernelspec": {
   "display_name": "Python 3 (ipykernel)",
   "language": "python",
   "name": "python3"
  },
  "language_info": {
   "codemirror_mode": {
    "name": "ipython",
    "version": 3
   },
   "file_extension": ".py",
   "mimetype": "text/x-python",
   "name": "python",
   "nbconvert_exporter": "python",
   "pygments_lexer": "ipython3",
   "version": "3.11.4"
  }
 },
 "nbformat": 4,
 "nbformat_minor": 2
}
